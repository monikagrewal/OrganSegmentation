{
 "cells": [
  {
   "cell_type": "code",
   "execution_count": 1,
   "metadata": {},
   "outputs": [
    {
     "name": "stderr",
     "output_type": "stream",
     "text": [
      "/export/scratch3/grewal/OAR_segmentation/.venv/lib/python3.10/site-packages/tqdm/auto.py:22: TqdmWarning: IProgress not found. Please update jupyter and ipywidgets. See https://ipywidgets.readthedocs.io/en/stable/user_install.html\n",
      "  from .autonotebook import tqdm as notebook_tqdm\n",
      "usage: ipykernel_launcher.py [-h] [--env-file ENV_FILE]\n",
      "ipykernel_launcher.py: error: unrecognized arguments: --ip=127.0.0.1 --stdin=9008 --control=9006 --hb=9005 --Session.signature_scheme=\"hmac-sha256\" --Session.key=b\"19d59eb8-433e-4a33-a746-a806dde5a373\" --shell=9007 --transport=\"tcp\" --iopub=9009 --f=/export/scratch1/home/grewal/.local/share/jupyter/runtime/kernel-v2-3288121yTYBe03hQYKk.json\n"
     ]
    },
    {
     "ename": "SystemExit",
     "evalue": "2",
     "output_type": "error",
     "traceback": [
      "An exception has occurred, use %tb to see the full traceback.\n",
      "\u001b[0;31mSystemExit\u001b[0m\u001b[0;31m:\u001b[0m 2\n"
     ]
    },
    {
     "name": "stderr",
     "output_type": "stream",
     "text": [
      "/export/scratch3/grewal/OAR_segmentation/.venv/lib/python3.10/site-packages/IPython/core/interactiveshell.py:3386: UserWarning: To exit: use 'exit', 'quit', or Ctrl-D.\n",
      "  warn(\"To exit: use 'exit', 'quit', or Ctrl-D.\", stacklevel=1)\n"
     ]
    }
   ],
   "source": [
    "import os\n",
    "import sys\n",
    "from pathlib import Path\n",
    "import numpy as np\n",
    "import pandas as pd\n",
    "import matplotlib\n",
    "import matplotlib.pyplot as plt\n",
    "%matplotlib inline\n",
    "\n",
    "import autocontouring\n",
    "sys.path[0] = str(Path(sys.path[0]).parent)\n",
    "from experiments.utils.metrics import calculate_metrics\n"
   ]
  },
  {
   "cell_type": "code",
   "execution_count": null,
   "metadata": {},
   "outputs": [],
   "source": [
    "def process_data(patient_id, patient_path, output_path):\n",
    "\tclass_names = [\"background\", \"bowel_bag\", \"bladder\", \"hip\", \"rectum\"]\n",
    "\t# read dicoms and obs1, obs2 delineations\n",
    "\timage = np.load(os.path.join(patient_path, \"image.npz\"))[\"volume\"]\n",
    "\tseg_obs1 = np.load(os.path.join(patient_path, \"observer1.npz\"))[\"mask_volume\"]\n",
    "\tseg_obs2 = np.load(os.path.join(patient_path, \"observer2.npz\"))[\"mask_volume\"]\n",
    "\n",
    "\t# obtain segmentation mask from deep learning model\n",
    "\tseg_auto = autocontouring.main(image)\n",
    "\n",
    "\t# vizualization\n",
    "\n",
    "\t# compute metrics obs1 and auto, obs2 and auto, obs1 and obs2\n",
    "\ttest_results = []\n",
    "\tmetrics12 = calculate_metrics(seg_obs1, seg_obs2, class_names=class_names)\n",
    "\tprint(\"metrics12: \", metrics12)\n",
    "\tdice = metrics12[3]\n",
    "\tfor class_no, classname in enumerate(class_names):\n",
    "\t\ttest_results.append({\n",
    "\t\t\t\"patient_id\": patient_id,\n",
    "\t\t\t\"classname\": classname,\n",
    "\t\t\t\"observer_pair\": \"d12\",\n",
    "\t\t\t\"dice\": dice[class_no]\n",
    "\t\t}\n",
    "\t\t)\n",
    "\n",
    "\tmetrics1auto = calculate_metrics(seg_obs1, seg_auto, class_names=class_names)\n",
    "\tprint(\"metrics1auto: \", metrics1auto)\n",
    "\tdice = metrics1auto[3]\n",
    "\tfor class_no, classname in enumerate(class_names):\n",
    "\t\ttest_results.append({\n",
    "\t\t\t\"patient_id\": patient_id,\n",
    "\t\t\t\"classname\": classname,\n",
    "\t\t\t\"observer_pair\": \"d1auto\",\n",
    "\t\t\t\"dice\": dice[class_no]\n",
    "\t\t}\n",
    "\t\t)\n",
    "\n",
    "\tmetrics2auto = calculate_metrics(seg_obs2, seg_auto, class_names=class_names)\n",
    "\tprint(\"metrics2auto: \", metrics2auto)\n",
    "\tdice = metrics2auto[3]\n",
    "\tfor class_no, classname in enumerate(class_names):\n",
    "\t\ttest_results.append({\n",
    "\t\t\t\"patient_id\": patient_id,\n",
    "\t\t\t\"classname\": classname,\n",
    "\t\t\t\"observer_pair\": \"d2auto\",\n",
    "\t\t\t\"dice\": dice[class_no]\n",
    "\t\t}\n",
    "\t\t)\n",
    "\n",
    "\treturn test_results"
   ]
  },
  {
   "cell_type": "code",
   "execution_count": null,
   "metadata": {},
   "outputs": [],
   "source": [
    "root_path = \"../outputs/auto_vs_manual_data\"\n",
    "output_path = \"../outputs/auto_vs_manual_results\"\n",
    "\n",
    "dicom_patient_ids = [1, 3, 6, 2, 4, 5]\n",
    "# dicom_patient_ids = [3]\n",
    "all_results = []\n",
    "for patient_id in dicom_patient_ids:\n",
    "\tprint(\"Patient no: \", patient_id)\n",
    "\tpatient_path = os.path.join(root_path, \"{0:03d}_MODIR_CERVIX_PATIENT/{0:03d}_CT_EBRT\".format(patient_id))\n",
    "\tresults = process_data(patient_id, patient_path, output_path)\n",
    "\tall_results.extend(results)\n",
    "\tprint(\"\")\n",
    "\n",
    "df = pd.DataFrame.from_records(all_results)\n",
    "print(df.head())"
   ]
  }
 ],
 "metadata": {
  "kernelspec": {
   "display_name": ".venv",
   "language": "python",
   "name": "python3"
  },
  "language_info": {
   "codemirror_mode": {
    "name": "ipython",
    "version": 3
   },
   "file_extension": ".py",
   "mimetype": "text/x-python",
   "name": "python",
   "nbconvert_exporter": "python",
   "pygments_lexer": "ipython3",
   "version": "3.10.6"
  },
  "orig_nbformat": 4,
  "vscode": {
   "interpreter": {
    "hash": "1fa0cc5916a655ca8a08afbb58fc79ed9f1157e73551cc6da3387c9e4788706a"
   }
  }
 },
 "nbformat": 4,
 "nbformat_minor": 2
}
