{
 "cells": [
  {
   "cell_type": "code",
   "execution_count": 102,
   "metadata": {},
   "outputs": [],
   "source": [
    "import numpy as np\n",
    "import pandas as pd\n",
    "import matplotlib.pyplot as plt\n",
    "import seaborn as sns"
   ]
  },
  {
   "cell_type": "code",
   "execution_count": 1,
   "metadata": {},
   "outputs": [
    {
     "data": {
      "text/plain": [
       "<module 'torch_AMCDataset' from '/export/scratch3/bvdp/segmentation/OAR_segmentation/experiments/unet/notebooks/torch_AMCDataset.py'>"
      ]
     },
     "execution_count": 1,
     "metadata": {},
     "output_type": "execute_result"
    }
   ],
   "source": [
    "import torch_AMCDataset\n",
    "from importlib import reload  \n",
    "\n",
    "reload(torch_AMCDataset)"
   ]
  },
  {
   "cell_type": "code",
   "execution_count": 194,
   "metadata": {},
   "outputs": [],
   "source": [
    "root_dir = '/export/scratch3/bvdp/segmentation/data/MODIR_data_preprocessed_train_28-05-2020/'\n",
    "# meta_path = \"/export/scratch3/bvdp/segmentation/OAR_segmentation/experiments/unet/notebooks/dataset_train_09-04-2020.csv\"\n",
    "meta_path = \"/export/scratch3/bvdp/segmentation/OAR_segmentation/data_preparation/meta/dataset_train_28-05-2020.csv\"\n",
    "dataset = torch_AMCDataset.AMCDataset(root_dir, meta_path, output_size=512, is_training=True)\n",
    "dataset_val = torch_AMCDataset.AMCDataset(root_dir, meta_path, output_size=512, is_training=False)"
   ]
  },
  {
   "cell_type": "code",
   "execution_count": 272,
   "metadata": {},
   "outputs": [
    {
     "name": "stdout",
     "output_type": "stream",
     "text": [
      "0,1,2,3,4,5,6,7,8,9,10,11,12,13,14,15,16,17,18,19,20,21,22,23,24,25,26,27,28,29,30,31,32,33,34,35,36,37,38,39,40,41,42,43,44,45,46,47,48,49,50,51,52,53,54,55,56,57,58,59,60,61,62,63,64,65,66,67,68,69,70,71,72,73,74,75,76,77,78,79,80,81,82,83,84,85,86,87,88,89,90,91,92,93,94,95,96,"
     ]
    }
   ],
   "source": [
    "results = {}\n",
    "\n",
    "for i, (vol, mask) in enumerate(dataset):\n",
    "    print(i, end=',')\n",
    "    n_slices = mask.shape[0]\n",
    "    for cls, cls_idx in dataset.class2idx.items():\n",
    "#         if cls == 'background':\n",
    "#             continue\n",
    "        \n",
    "        slices = np.where((mask == cls_idx).any(axis=(1,2)))[0]        \n",
    "        slices_mask = pd.Series(slices >= 0, index=slices).reindex(range(n_slices)).fillna(False).values\n",
    "        cls_results = results.get(cls, [])\n",
    "        cls_results.append(slices_mask)\n",
    "        results[cls] = cls_results"
   ]
  },
  {
   "cell_type": "code",
   "execution_count": 327,
   "metadata": {},
   "outputs": [
    {
     "data": {
      "text/html": [
       "<div>\n",
       "<style scoped>\n",
       "    .dataframe tbody tr th:only-of-type {\n",
       "        vertical-align: middle;\n",
       "    }\n",
       "\n",
       "    .dataframe tbody tr th {\n",
       "        vertical-align: top;\n",
       "    }\n",
       "\n",
       "    .dataframe thead th {\n",
       "        text-align: right;\n",
       "    }\n",
       "</style>\n",
       "<table border=\"1\" class=\"dataframe\">\n",
       "  <thead>\n",
       "    <tr style=\"text-align: right;\">\n",
       "      <th></th>\n",
       "      <th>background</th>\n",
       "      <th>bowel_bag</th>\n",
       "      <th>bladder</th>\n",
       "      <th>hip</th>\n",
       "      <th>rectum</th>\n",
       "    </tr>\n",
       "  </thead>\n",
       "  <tbody>\n",
       "    <tr>\n",
       "      <th>0</th>\n",
       "      <td>[True, True, True, True, True, True, True, Tru...</td>\n",
       "      <td>[False, False, False, False, False, False, Fal...</td>\n",
       "      <td>[False, False, False, False, False, False, Fal...</td>\n",
       "      <td>[False, False, False, False, False, False, Fal...</td>\n",
       "      <td>[False, False, False, False, False, False, Fal...</td>\n",
       "    </tr>\n",
       "    <tr>\n",
       "      <th>1</th>\n",
       "      <td>[True, True, True, True, True, True, True, Tru...</td>\n",
       "      <td>[False, False, False, False, False, False, Fal...</td>\n",
       "      <td>[False, False, False, False, False, False, Fal...</td>\n",
       "      <td>[False, False, False, False, False, False, Fal...</td>\n",
       "      <td>[False, False, False, False, False, False, Fal...</td>\n",
       "    </tr>\n",
       "  </tbody>\n",
       "</table>\n",
       "</div>"
      ],
      "text/plain": [
       "                                          background  \\\n",
       "0  [True, True, True, True, True, True, True, Tru...   \n",
       "1  [True, True, True, True, True, True, True, Tru...   \n",
       "\n",
       "                                           bowel_bag  \\\n",
       "0  [False, False, False, False, False, False, Fal...   \n",
       "1  [False, False, False, False, False, False, Fal...   \n",
       "\n",
       "                                             bladder  \\\n",
       "0  [False, False, False, False, False, False, Fal...   \n",
       "1  [False, False, False, False, False, False, Fal...   \n",
       "\n",
       "                                                 hip  \\\n",
       "0  [False, False, False, False, False, False, Fal...   \n",
       "1  [False, False, False, False, False, False, Fal...   \n",
       "\n",
       "                                              rectum  \n",
       "0  [False, False, False, False, False, False, Fal...  \n",
       "1  [False, False, False, False, False, False, Fal...  "
      ]
     },
     "execution_count": 327,
     "metadata": {},
     "output_type": "execute_result"
    }
   ],
   "source": [
    "df = pd.DataFrame(results)\n",
    "df.head(2)"
   ]
  },
  {
   "cell_type": "code",
   "execution_count": 300,
   "metadata": {},
   "outputs": [
    {
     "data": {
      "image/png": "[encoded data removed]",
      "text/plain": [
       "<Figure size 864x864 with 4 Axes>"
      ]
     },
     "metadata": {
      "needs_background": "light"
     },
     "output_type": "display_data"
    }
   ],
   "source": [
    "fig, axes = plt.subplots(nrows=2, ncols=2, figsize=(12,12), sharex=False, sharey=True)\n",
    "\n",
    "for i, cls in enumerate(['bowel_bag', 'bladder', 'hip', 'rectum']):\n",
    "    df_slice_presence = df[cls].apply(pd.Series).astype(float).fillna(2)\n",
    "#     df_slice_presence = df[cls].apply(lambda x: pd.Series(x > 0, index=x))\n",
    "#     df_slice_presence = df_slice_presence.reindex(columns=range(0,max_slices)).fillna(False)\n",
    "    df_slice_presence.columns = df_slice_presence.columns.rename(\"slice\")\n",
    "    df_slice_presence.index = df_slice_presence.index.rename(\"datapoint\")\n",
    "    \n",
    "    ax = axes.ravel()[i]\n",
    "    sns.heatmap(df_slice_presence, cbar=False, ax=ax)\n",
    "    ax.set_title(cls);\n",
    "    "
   ]
  },
  {
   "cell_type": "code",
   "execution_count": 304,
   "metadata": {},
   "outputs": [],
   "source": [
    "from functools import reduce"
   ]
  },
  {
   "cell_type": "code",
   "execution_count": 320,
   "metadata": {
    "scrolled": false
   },
   "outputs": [
    {
     "data": {
      "text/plain": [
       "<matplotlib.axes._subplots.AxesSubplot at 0x7fb58ca02780>"
      ]
     },
     "execution_count": 320,
     "metadata": {},
     "output_type": "execute_result"
    },
    {
     "data": {
      "image/png": "[encoded data removed]",
      "text/plain": [
       "<Figure size 864x864 with 1 Axes>"
      ]
     },
     "metadata": {
      "needs_background": "light"
     },
     "output_type": "display_data"
    }
   ],
   "source": [
    "df_classes = df.drop('background', axis=1)\n",
    "df_presence_any = df_classes.apply(lambda row: reduce(lambda x, y: x | y, row), axis=1).apply(pd.Series).astype(float)\n",
    "plt.figure(figsize=(12,12))\n",
    "sns.heatmap(df_presence_any.fillna(2), cbar=False)"
   ]
  },
  {
   "cell_type": "code",
   "execution_count": 406,
   "metadata": {},
   "outputs": [
    {
     "data": {
      "image/png": "[encoded data removed]",
      "text/plain": [
       "<Figure size 432x288 with 1 Axes>"
      ]
     },
     "metadata": {
      "needs_background": "light"
     },
     "output_type": "display_data"
    }
   ],
   "source": [
    "end_slices = df_presence_any.apply(lambda x: x[x == 1].index.max(), axis=1)\n",
    "ax = end_slices.hist(bins=25, linewidth=1, edgecolor='black', grid=False)\n",
    "median = end_slices.median()\n",
    "percentile_75 = end_slices.describe()['75%']\n",
    "line_height = 12\n",
    "plt.vlines([median, percentile_75], ymin=0, ymax=line_height, color='red')\n",
    "ax.annotate(\"median\", (median, line_height))\n",
    "ax.annotate(\"75 %\", (percentile_75, line_height));"
   ]
  },
  {
   "cell_type": "code",
   "execution_count": 363,
   "metadata": {},
   "outputs": [
    {
     "data": {
      "text/plain": [
       "count     96.000000\n",
       "mean     128.916667\n",
       "std       22.731229\n",
       "min       57.000000\n",
       "25%      115.000000\n",
       "50%      123.500000\n",
       "75%      148.250000\n",
       "max      180.000000\n",
       "dtype: float64"
      ]
     },
     "execution_count": 363,
     "metadata": {},
     "output_type": "execute_result"
    }
   ],
   "source": [
    "df_presence_any.apply(lambda x: x[x == 1].index.max(), axis=1).describe()"
   ]
  },
  {
   "cell_type": "markdown",
   "metadata": {},
   "source": [
    "WEIRD. No labels:\n",
    "* '/export/scratch3/bvdp/segmentation/data/MODIR_data_preprocessed_train_23-04-2020/3476679937_3399399578'\n"
   ]
  },
  {
   "cell_type": "code",
   "execution_count": 164,
   "metadata": {},
   "outputs": [
    {
     "data": {
      "text/plain": [
       "'/export/scratch3/bvdp/segmentation/data/MODIR_data_preprocessed_train_23-04-2020/3476679937_3399399578'"
      ]
     },
     "execution_count": 164,
     "metadata": {},
     "output_type": "execute_result"
    }
   ],
   "source": [
    "dataset.meta_df.iloc[87].path"
   ]
  },
  {
   "cell_type": "code",
   "execution_count": 323,
   "metadata": {},
   "outputs": [],
   "source": [
    "vol, mask = dataset[87]"
   ]
  },
  {
   "cell_type": "code",
   "execution_count": 326,
   "metadata": {},
   "outputs": [],
   "source": [
    "# mask"
   ]
  },
  {
   "cell_type": "code",
   "execution_count": null,
   "metadata": {},
   "outputs": [],
   "source": []
  },
  {
   "cell_type": "code",
   "execution_count": 160,
   "metadata": {},
   "outputs": [],
   "source": [
    "vol, mask = dataset[86]"
   ]
  },
  {
   "cell_type": "code",
   "execution_count": null,
   "metadata": {},
   "outputs": [],
   "source": []
  },
  {
   "cell_type": "code",
   "execution_count": 161,
   "metadata": {},
   "outputs": [
    {
     "data": {
      "text/plain": [
       "(173, 512, 512)"
      ]
     },
     "execution_count": 161,
     "metadata": {},
     "output_type": "execute_result"
    }
   ],
   "source": [
    "mask.shape"
   ]
  },
  {
   "cell_type": "code",
   "execution_count": 156,
   "metadata": {},
   "outputs": [],
   "source": [
    "# plt.imshow(vol[0][40])"
   ]
  },
  {
   "cell_type": "code",
   "execution_count": 324,
   "metadata": {},
   "outputs": [
    {
     "data": {
      "text/plain": [
       "array([0])"
      ]
     },
     "execution_count": 324,
     "metadata": {},
     "output_type": "execute_result"
    }
   ],
   "source": [
    "np.unique(mask)"
   ]
  },
  {
   "cell_type": "code",
   "execution_count": 34,
   "metadata": {},
   "outputs": [
    {
     "data": {
      "text/plain": [
       "array([ 43,  44,  45,  46,  47,  48,  49,  50,  51,  52,  53,  54,  55,\n",
       "        56,  57,  58,  59,  60,  61,  62,  63,  64,  65,  66,  67,  68,\n",
       "        69,  70,  71,  72,  73,  74,  75,  76,  77,  78,  79,  80,  81,\n",
       "        82,  83,  84,  85,  86,  87,  88,  89,  90,  91,  92,  93,  94,\n",
       "        95,  96,  97,  98,  99, 100, 101, 102, 103, 104, 105, 106, 107,\n",
       "       108, 109, 110, 111, 112])"
      ]
     },
     "execution_count": 34,
     "metadata": {},
     "output_type": "execute_result"
    }
   ],
   "source": [
    "\n"
   ]
  },
  {
   "cell_type": "code",
   "execution_count": 24,
   "metadata": {},
   "outputs": [
    {
     "data": {
      "text/plain": [
       "array([ 43,  43,  43, ..., 112, 112, 112])"
      ]
     },
     "execution_count": 24,
     "metadata": {},
     "output_type": "execute_result"
    }
   ],
   "source": [
    "s,x,y = np.where(mask == 1)\n"
   ]
  },
  {
   "cell_type": "code",
   "execution_count": null,
   "metadata": {},
   "outputs": [],
   "source": []
  }
 ],
 "metadata": {
  "kernelspec": {
   "display_name": "Python 3",
   "language": "python",
   "name": "python3"
  },
  "language_info": {
   "codemirror_mode": {
    "name": "ipython",
    "version": 3
   },
   "file_extension": ".py",
   "mimetype": "text/x-python",
   "name": "python",
   "nbconvert_exporter": "python",
   "pygments_lexer": "ipython3",
   "version": "3.6.8"
  }
 },
 "nbformat": 4,
 "nbformat_minor": 2
}
