{
 "cells": [
  {
   "cell_type": "code",
   "execution_count": 3,
   "metadata": {},
   "outputs": [],
   "source": [
    "import os\n",
    "import numpy as np\n",
    "import pandas as pd\n",
    "import matplotlib\n",
    "from matplotlib.ticker import FormatStrFormatter\n",
    "import matplotlib.pyplot as plt\n",
    "%matplotlib inline\n",
    "from skimage.io import imsave\n",
    "import cv2\n",
    "import json"
   ]
  },
  {
   "cell_type": "code",
   "execution_count": null,
   "metadata": {},
   "outputs": [],
   "source": [
    "def crop_center(im:np.array, crop_width: int=20, crop_height: int=20) \\\n",
    "\t-> np.array:\n",
    "\t\"\"\"\n",
    "\tim: 2D np array, single slice, 3 channels\n",
    "\t\"\"\"\n",
    "\th, w, c = im.shape\n",
    "\tim = im[crop_height : h - crop_height, crop_width : w - crop_width, :]\n",
    "\treturn im"
   ]
  },
  {
   "cell_type": "code",
   "execution_count": 4,
   "metadata": {},
   "outputs": [],
   "source": [
    "def visualize_data(volume, annotations1, annotations2, slices, output_path, patient_id):\n",
    "\tcolors = {0: (1, 0, 0), 1: (1, 0, 0), 2: (0, 1, 0), 3: (0, 0, 1), 4: (1, 1, 0)}\n",
    "\t\n",
    "\timlist = []\n",
    "\tfor i in slices:\n",
    "\t\timg1 = volume[i]\n",
    "\t\timg1 = cv2.cvtColor(img1, cv2.COLOR_GRAY2RGB)\n",
    "\t\tannotations1_slice = [item for item in annotations1 if item[0]==i]\n",
    "\t\tprint(f\"auto annotations for slice {i}: {len(annotations1_slice)}\")\n",
    "\t\tif len(annotations1_slice)>0:\n",
    "\t\t\tfor class_idx in [1, 2, 3, 4]:\n",
    "\t\t\t\tcontours = [np.array(item[2]).astype(np.int32) for item in annotations1_slice if item[1]==class_idx]\n",
    "\t\t\t\tprint(f\"contours for class {class_idx}: {len(contours)}\")\n",
    "\t\t\t\tif len(contours)>0:\n",
    "\t\t\t\t\timg1 = cv2.drawContours(img1, contours, -1, colors[class_idx], 2, cv2.LINE_8)\n",
    "\t\t\t\t\t# img1 = cv2.polylines(img1, contours, 1, colors[class_idx], 1)\n",
    "\n",
    "\t\timg2 = volume[i]\n",
    "\t\timg2 = cv2.cvtColor(img2, cv2.COLOR_GRAY2RGB)\n",
    "\t\tannotations2_slice = [item for item in annotations2 if item[0]==i]\n",
    "\t\tprint(f\"manual annotations for slice {i}: {len(annotations2_slice)}\")\n",
    "\t\tif len(annotations2_slice)>0:\n",
    "\t\t\tfor class_idx in [1,2,3,4]:\n",
    "\t\t\t\tcontours = [np.array(item[2]).astype(np.int32) for item in annotations2_slice if item[1]==class_idx]\n",
    "\t\t\t\tprint(f\"contours for class {class_idx}: {len(contours)}\")\n",
    "\t\t\t\tif len(contours)>0:\n",
    "\t\t\t\t\timg2 = cv2.drawContours(img2, contours, -1, colors[class_idx], 2, cv2.LINE_8)\n",
    "\n",
    "\t\tfull_im = np.concatenate((img1, img2), axis=0)\n",
    "\t\timsave(os.path.join(output_path, f\"{patient_id}_{i}.png\"), (full_im * 255).astype(np.uint8))"
   ]
  },
  {
   "cell_type": "code",
   "execution_count": 67,
   "metadata": {},
   "outputs": [
    {
     "name": "stdout",
     "output_type": "stream",
     "text": [
      "Patient no:  1\n",
      "auto annotations for slice 60: 6\n",
      "contours for class 1: 1\n"
     ]
    },
    {
     "ename": "error",
     "evalue": "OpenCV(4.6.0) /io/opencv/modules/imgproc/src/drawing.cpp:2428: error: (-215:Assertion failed) p.checkVector(2, CV_32S) >= 0 in function 'polylines'\n",
     "output_type": "error",
     "traceback": [
      "\u001b[0;31m---------------------------------------------------------------------------\u001b[0m",
      "\u001b[0;31merror\u001b[0m                                     Traceback (most recent call last)",
      "Cell \u001b[0;32mIn[67], line 16\u001b[0m\n\u001b[1;32m     14\u001b[0m seg_auto \u001b[39m=\u001b[39m json\u001b[39m.\u001b[39mload(\u001b[39mopen\u001b[39m(os\u001b[39m.\u001b[39mpath\u001b[39m.\u001b[39mjoin(patient_path, \u001b[39m\"\u001b[39m\u001b[39mauto.json\u001b[39m\u001b[39m\"\u001b[39m), \u001b[39m\"\u001b[39m\u001b[39mr\u001b[39m\u001b[39m\"\u001b[39m))\n\u001b[1;32m     15\u001b[0m seg_manual \u001b[39m=\u001b[39m json\u001b[39m.\u001b[39mload(\u001b[39mopen\u001b[39m(os\u001b[39m.\u001b[39mpath\u001b[39m.\u001b[39mjoin(patient_path, \u001b[39m\"\u001b[39m\u001b[39mmanual.json\u001b[39m\u001b[39m\"\u001b[39m), \u001b[39m\"\u001b[39m\u001b[39mr\u001b[39m\u001b[39m\"\u001b[39m))\n\u001b[0;32m---> 16\u001b[0m visualize_data(image, seg_auto, seg_manual, graded_slices[patient_id], output_path, patient_id)\n",
      "Cell \u001b[0;32mIn[66], line 18\u001b[0m, in \u001b[0;36mvisualize_data\u001b[0;34m(volume, annotations1, annotations2, slices, output_path, patient_id)\u001b[0m\n\u001b[1;32m     15\u001b[0m \t\t\u001b[39mif\u001b[39;00m \u001b[39mlen\u001b[39m(contours)\u001b[39m>\u001b[39m\u001b[39m0\u001b[39m:\n\u001b[1;32m     16\u001b[0m \t\t\t\u001b[39mfor\u001b[39;00m contour \u001b[39min\u001b[39;00m contours:\n\u001b[1;32m     17\u001b[0m \t\t\t\u001b[39m# img = cv2.drawContours(img, contours, -1, colors_auto[class_idx], 2, cv2.LINE_4)\u001b[39;00m\n\u001b[0;32m---> 18\u001b[0m \t\t\t\timg \u001b[39m=\u001b[39m cv2\u001b[39m.\u001b[39;49mpolylines(img, contour, \u001b[39m1\u001b[39;49m, colors_auto[class_idx], \u001b[39m1\u001b[39;49m)\n\u001b[1;32m     20\u001b[0m \u001b[39m# annotations2_slice = [item for item in annotations2 if item[0]==i]\u001b[39;00m\n\u001b[1;32m     21\u001b[0m \u001b[39m# print(f\"manual annotations for slice {i}: {len(annotations2_slice)}\")\u001b[39;00m\n\u001b[1;32m     22\u001b[0m \u001b[39m# if len(annotations2_slice)>0:\u001b[39;00m\n\u001b[0;32m   (...)\u001b[0m\n\u001b[1;32m     26\u001b[0m \u001b[39m# \t\tif len(contours)>0:\u001b[39;00m\n\u001b[1;32m     27\u001b[0m \u001b[39m# \t\t\timg = cv2.drawContours(img, contours, -1, colors_manual[class_idx], 2, cv2.LINE_8)\u001b[39;00m\n\u001b[1;32m     28\u001b[0m imlist\u001b[39m.\u001b[39mappend(img)\n",
      "\u001b[0;31merror\u001b[0m: OpenCV(4.6.0) /io/opencv/modules/imgproc/src/drawing.cpp:2428: error: (-215:Assertion failed) p.checkVector(2, CV_32S) >= 0 in function 'polylines'\n"
     ]
    }
   ],
   "source": [
    "root_path = \"../outputs/autocontours_review_processed\"\n",
    "output_path = \"../outputs/autocontours_review_results\"\n",
    "\n",
    "dicom_patient_ids = [1, 3, 6, 8]\n",
    "# dicom_patient_ids = [3]\n",
    "graded_slices = {1: np.arange(60, 124, 12).astype(np.int32),\n",
    "\t\t\t\t3: np.arange(63, 123, 12).astype(np.int32),\n",
    "\t\t\t\t6: np.arange(42, 106, 12).astype(np.int32),\n",
    "\t\t\t\t8: np.arange(35, 95, 12).astype(np.int32)}\n",
    "for patient_id in dicom_patient_ids:\n",
    "\tprint(\"Patient no: \", patient_id)\n",
    "\tpatient_path = os.path.join(root_path, \"{0:03d}_CT_EBRT\".format(patient_id))\n",
    "\timage = np.load(os.path.join(patient_path, \"image.npz\"))[\"volume\"]\n",
    "\tseg_auto = json.load(open(os.path.join(patient_path, \"auto.json\"), \"r\"))\n",
    "\tseg_manual = json.load(open(os.path.join(patient_path, \"manual.json\"), \"r\"))\n",
    "\tvisualize_data(image, seg_auto, seg_manual, graded_slices[patient_id], output_path, patient_id)"
   ]
  },
  {
   "cell_type": "markdown",
   "metadata": {},
   "source": [
    "## Concat images"
   ]
  },
  {
   "cell_type": "code",
   "execution_count": 8,
   "metadata": {},
   "outputs": [
    {
     "data": {
      "text/plain": [
       "True"
      ]
     },
     "execution_count": 8,
     "metadata": {},
     "output_type": "execute_result"
    }
   ],
   "source": [
    "output_path = \"../outputs/autocontours_review_results\"\n",
    "image_info = [(8, 35),\n",
    "              (3, 63),\n",
    "              (1, 60),\n",
    "              (6, 54),\n",
    "              (6, 94),\n",
    "             ]\n",
    "imlist = []\n",
    "for info in image_info:\n",
    "    patient_id, slice_idx = info\n",
    "    filepath = os.path.join(output_path, f\"{patient_id}_{slice_idx}.png\")\n",
    "    im = cv2.imread(filepath)\n",
    "    imlist.append(im)\n",
    "\n",
    "im = np.concatenate(imlist, axis=1)\n",
    "cv2.imwrite(os.path.join(output_path, \"oar_examples_new.jpg\"), im)"
   ]
  },
  {
   "cell_type": "code",
   "execution_count": null,
   "metadata": {},
   "outputs": [],
   "source": []
  }
 ],
 "metadata": {
  "kernelspec": {
   "display_name": "Python 3 (ipykernel)",
   "language": "python",
   "name": "python3"
  },
  "language_info": {
   "codemirror_mode": {
    "name": "ipython",
    "version": 3
   },
   "file_extension": ".py",
   "mimetype": "text/x-python",
   "name": "python",
   "nbconvert_exporter": "python",
   "pygments_lexer": "ipython3",
   "version": "3.10.8 (main, Oct 12 2022, 00:00:00) [GCC 12.2.1 20220819 (Red Hat 12.2.1-2)]"
  },
  "vscode": {
   "interpreter": {
    "hash": "902a5613a99ddf1cb750f12c260173759d67a5de98bad3051c0e12aad3917796"
   }
  }
 },
 "nbformat": 4,
 "nbformat_minor": 2
}
