{
 "cells": [
  {
   "cell_type": "code",
   "execution_count": 1,
   "metadata": {},
   "outputs": [],
   "source": [
    "import os\n",
    "import numpy as np\n",
    "import pandas as pd\n",
    "import matplotlib\n",
    "from matplotlib.ticker import FormatStrFormatter\n",
    "import matplotlib.pyplot as plt\n",
    "%matplotlib inline\n",
    "from scipy.stats import chisquare"
   ]
  },
  {
   "cell_type": "code",
   "execution_count": 2,
   "metadata": {},
   "outputs": [],
   "source": [
    "filepath = \"../data_preparation/meta/auto_contours_review_processed.xlsx\"\n",
    "regions = [\"bowel_bag\", \"bladder\", \"hip\", \"rectum\"]"
   ]
  },
  {
   "cell_type": "code",
   "execution_count": 3,
   "metadata": {},
   "outputs": [
    {
     "name": "stdout",
     "output_type": "stream",
     "text": [
      "22\n",
      "22\n",
      "22\n",
      "22\n",
      "   index  slice_no direction  slice_coordinate  manual_bowel_bag  \\\n",
      "0      1        48         I                81               NaN   \n",
      "1      2        52         I                71               NaN   \n",
      "2      3        56         I                61               3.0   \n",
      "3      4        60         I                51               3.0   \n",
      "4      5        64         I                41               3.0   \n",
      "\n",
      "   manual_bladder  manual_hip  manual_rectum  auto_bowel_bag  auto_bladder  \\\n",
      "0             NaN         NaN            NaN             NaN           NaN   \n",
      "1             2.0         NaN            NaN             NaN           1.0   \n",
      "2             1.0         2.0            NaN             1.0           1.0   \n",
      "3             2.0         1.0            1.0             2.0           2.0   \n",
      "4             2.0         1.0            1.0             1.0           2.0   \n",
      "\n",
      "   auto_hip  auto_rectum  \n",
      "0       NaN          NaN  \n",
      "1       NaN          NaN  \n",
      "2       1.0          NaN  \n",
      "3       1.0          3.0  \n",
      "4       2.0          2.0  \n"
     ]
    }
   ],
   "source": [
    "patient_list = [1, 3, 6, 8]\n",
    "all_df = []\n",
    "for patient_id in patient_list:\n",
    "\tdf = pd.read_excel(filepath, sheet_name=\"Patient{0:03d}\".format(patient_id))\n",
    "\tprint(len(df))\n",
    "\tall_df.append(df)\n",
    "\n",
    "df_raw = pd.concat(all_df)\n",
    "print(df_raw.head())\n"
   ]
  },
  {
   "cell_type": "code",
   "execution_count": 4,
   "metadata": {},
   "outputs": [
    {
     "data": {
      "text/html": [
       "<div>\n",
       "<style scoped>\n",
       "    .dataframe tbody tr th:only-of-type {\n",
       "        vertical-align: middle;\n",
       "    }\n",
       "\n",
       "    .dataframe tbody tr th {\n",
       "        vertical-align: top;\n",
       "    }\n",
       "\n",
       "    .dataframe thead th {\n",
       "        text-align: right;\n",
       "    }\n",
       "</style>\n",
       "<table border=\"1\" class=\"dataframe\">\n",
       "  <thead>\n",
       "    <tr style=\"text-align: right;\">\n",
       "      <th></th>\n",
       "      <th>auto_bowel_bag</th>\n",
       "      <th>manual_bowel_bag</th>\n",
       "      <th>auto_bladder</th>\n",
       "      <th>manual_bladder</th>\n",
       "      <th>auto_hip</th>\n",
       "      <th>manual_hip</th>\n",
       "      <th>auto_rectum</th>\n",
       "      <th>manual_rectum</th>\n",
       "    </tr>\n",
       "  </thead>\n",
       "  <tbody>\n",
       "    <tr>\n",
       "      <th>1.0</th>\n",
       "      <td>29</td>\n",
       "      <td>32</td>\n",
       "      <td>22.0</td>\n",
       "      <td>18.0</td>\n",
       "      <td>3.0</td>\n",
       "      <td>6.0</td>\n",
       "      <td>24</td>\n",
       "      <td>27.0</td>\n",
       "    </tr>\n",
       "    <tr>\n",
       "      <th>2.0</th>\n",
       "      <td>25</td>\n",
       "      <td>15</td>\n",
       "      <td>5.0</td>\n",
       "      <td>9.0</td>\n",
       "      <td>15.0</td>\n",
       "      <td>12.0</td>\n",
       "      <td>9</td>\n",
       "      <td>8.0</td>\n",
       "    </tr>\n",
       "    <tr>\n",
       "      <th>3.0</th>\n",
       "      <td>4</td>\n",
       "      <td>11</td>\n",
       "      <td>0.0</td>\n",
       "      <td>0.0</td>\n",
       "      <td>0.0</td>\n",
       "      <td>0.0</td>\n",
       "      <td>2</td>\n",
       "      <td>0.0</td>\n",
       "    </tr>\n",
       "  </tbody>\n",
       "</table>\n",
       "</div>"
      ],
      "text/plain": [
       "     auto_bowel_bag  manual_bowel_bag  auto_bladder  manual_bladder  auto_hip  \\\n",
       "1.0              29                32          22.0            18.0       3.0   \n",
       "2.0              25                15           5.0             9.0      15.0   \n",
       "3.0               4                11           0.0             0.0       0.0   \n",
       "\n",
       "     manual_hip  auto_rectum  manual_rectum  \n",
       "1.0         6.0           24           27.0  \n",
       "2.0        12.0            9            8.0  \n",
       "3.0         0.0            2            0.0  "
      ]
     },
     "execution_count": 4,
     "metadata": {},
     "output_type": "execute_result"
    }
   ],
   "source": [
    "frequency_counts = {}\n",
    "for region in regions:\n",
    "\tdf_region = df_raw[[f\"manual_{region}\", f\"auto_{region}\"]]\n",
    "\tdf_region = df_region.dropna(axis=0, how=\"all\")\n",
    "\tfrequency_counts[f\"auto_{region}\"] = df_region[f\"auto_{region}\"].value_counts()\n",
    "\tfrequency_counts[f\"manual_{region}\"] = df_region[f\"manual_{region}\"].value_counts()\n",
    "\n",
    "df_frequency_counts = pd.DataFrame.from_dict(frequency_counts)\n",
    "df_frequency_counts = df_frequency_counts.fillna(0)\n",
    "df_frequency_counts.head()\n",
    "\n"
   ]
  },
  {
   "cell_type": "code",
   "execution_count": 1,
   "metadata": {},
   "outputs": [
    {
     "data": {
      "text/plain": [
       "58"
      ]
     },
     "execution_count": 1,
     "metadata": {},
     "output_type": "execute_result"
    }
   ],
   "source": [
    "29+25+4"
   ]
  },
  {
   "cell_type": "code",
   "execution_count": 36,
   "metadata": {},
   "outputs": [
    {
     "name": "stdout",
     "output_type": "stream",
     "text": [
      "bowel_bag\n",
      "manual: [32, 15, 11], auto: [29, 25, 4]\n",
      "11.402462121212121 0.0033418489055896563\n",
      "\n",
      "bladder\n",
      "manual: [18.0, 9.0, 0.0], auto: [22.0, 5.0, 0.0]\n",
      "2.6666666666666665 0.10247043485974942\n",
      "\n",
      "hip\n",
      "manual: [6.0, 12.0, 0.0], auto: [3.0, 15.0, 0.0]\n",
      "2.25 0.13361440253771584\n",
      "\n",
      "rectum\n",
      "manual: [27.0, 8.0, 0.0], auto: [24, 9, 2]\n",
      "inf 0.0\n",
      "\n"
     ]
    },
    {
     "name": "stderr",
     "output_type": "stream",
     "text": [
      "/export/scratch2/data/grewal/OAR_segmentation/.venv/lib64/python3.10/site-packages/scipy/stats/_stats_py.py:7166: RuntimeWarning: divide by zero encountered in divide\n",
      "  terms = (f_obs_float - f_exp)**2 / f_exp\n"
     ]
    }
   ],
   "source": [
    "for region in regions:\n",
    "\tprint(region)\n",
    "\tf_obs = df_frequency_counts[f\"auto_{region}\"].to_list()\n",
    "\tf_exp = df_frequency_counts[f\"manual_{region}\"].to_list()\n",
    "\tprint(f\"manual: {f_exp}, auto: {f_obs}\")\n",
    "\tif region in [\"bladder\", \"hip\"]:\n",
    "\t\tf_obs, f_exp = f_obs[:2], f_exp[:2]\n",
    "\tchisq, p = chisquare(f_obs, f_exp)\n",
    "\tprint(chisq, p)\n",
    "\tprint(\"\")"
   ]
  },
  {
   "cell_type": "markdown",
   "metadata": {},
   "source": [
    "## Plotting"
   ]
  },
  {
   "cell_type": "code",
   "execution_count": 25,
   "metadata": {},
   "outputs": [
    {
     "data": {
      "image/png": "[encoded data removed]",
      "text/plain": [
       "<Figure size 1200x300 with 4 Axes>"
      ]
     },
     "metadata": {},
     "output_type": "display_data"
    }
   ],
   "source": [
    "fig, axes = plt.subplots(nrows=1, ncols=4, figsize=(12,3), sharex=False, sharey=True)\n",
    "plt.subplots_adjust(0.05, 0.2, 0.95, 0.9, wspace=0.0)\n",
    "cmap = matplotlib.colormaps[\"tab10\"](np.linspace(0, 1, 10))\n",
    "idx_to_letter = {0:'a', 1:'b', 2:'c', 3:'d'}\n",
    "\n",
    "for i, region in enumerate(regions):\n",
    "\tax1 = axes.ravel()[i]\n",
    "\tdata = df_frequency_counts[[f\"manual_{region}\", f\"auto_{region}\"]].values\n",
    "\tx = [1, 5]\n",
    "\tax1.bar(x, data[0, :], color=cmap[2], width=1, label=\"grade 1\", zorder=3)\n",
    "\tx = [2, 6]\n",
    "\tax1.bar(x, data[1, :], color=cmap[0], width=1, label=\"grade 2\", zorder=3)\n",
    "\tx = [3, 7]\n",
    "\tax1.bar(x, data[2, :], color=cmap[3], width=1, label=\"grade 3\", zorder=3)\n",
    "\n",
    "\tif region==\"bowel_bag\":\n",
    "\t\tregion = \"bowel bag\"\n",
    "\tif region==\"hip\":\n",
    "\t\tregion = \"hips\"\n",
    "\tax1.set_title(f\"({idx_to_letter[i]}) {region}\", fontweight=\"bold\", fontsize=14)\n",
    "\tax1.set_xticks([2, 6])\n",
    "\tax1.set_xticklabels([\"manual\", \"automatic\"], fontsize=12)\n",
    "\tax1.set_ylim([0, 35])\n",
    "\tax1.yaxis.set_major_formatter(FormatStrFormatter('%d'))\n",
    "\tif i==0:\n",
    "\t\tax1.set_ylabel(\"Number of slices\", fontsize=12)\n",
    "\tax1.grid(axis='y', linestyle=\"-\", zorder=0, alpha=0.6)\n",
    "\tif i==1:\n",
    "\t\tax1.legend(loc='lower left', frameon=False, bbox_to_anchor=(0.3, -0.3, 0.1, 1), ncols=3, fontsize=11)\n",
    "\n",
    "# plt.show()\n",
    "\n",
    "fig.savefig('../outputs/clinical_acceptability.png', dpi=300)"
   ]
  },
  {
   "cell_type": "code",
   "execution_count": 15,
   "metadata": {},
   "outputs": [
    {
     "data": {
      "text/plain": [
       "(1.0, 0.4980392156862745, 0.054901960784313725, 1.0)"
      ]
     },
     "execution_count": 15,
     "metadata": {},
     "output_type": "execute_result"
    }
   ],
   "source": [
    "cmap = matplotlib.colormaps[\"tab20\"]\n",
    "cmap(2)"
   ]
  },
  {
   "cell_type": "code",
   "execution_count": null,
   "metadata": {},
   "outputs": [],
   "source": []
  }
 ],
 "metadata": {
  "kernelspec": {
   "display_name": "Python 3 (ipykernel)",
   "language": "python",
   "name": "python3"
  },
  "language_info": {
   "codemirror_mode": {
    "name": "ipython",
    "version": 3
   },
   "file_extension": ".py",
   "mimetype": "text/x-python",
   "name": "python",
   "nbconvert_exporter": "python",
   "pygments_lexer": "ipython3",
   "version": "3.10.8 (main, Oct 12 2022, 00:00:00) [GCC 12.2.1 20220819 (Red Hat 12.2.1-2)]"
  },
  "vscode": {
   "interpreter": {
    "hash": "902a5613a99ddf1cb750f12c260173759d67a5de98bad3051c0e12aad3917796"
   }
  }
 },
 "nbformat": 4,
 "nbformat_minor": 2
}
