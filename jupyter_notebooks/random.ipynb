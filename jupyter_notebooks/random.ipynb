{
 "cells": [
  {
   "cell_type": "code",
   "execution_count": 1,
   "metadata": {},
   "outputs": [],
   "source": [
    "import numpy as np\n",
    "import matplotlib\n",
    "%matplotlib inline\n",
    "import matplotlib.pyplot as plt"
   ]
  },
  {
   "cell_type": "code",
   "execution_count": 5,
   "metadata": {},
   "outputs": [
    {
     "name": "stdout",
     "output_type": "stream",
     "text": [
      "0.3678794411710179\n"
     ]
    }
   ],
   "source": [
    "x = np.arange(0.00001, 1, 0.00001)\n",
    "y = (-1) * x * np.log(x)\n",
    "ymax = max(y)\n",
    "print(ymax)"
   ]
  },
  {
   "cell_type": "code",
   "execution_count": 2,
   "metadata": {},
   "outputs": [],
   "source": [
    "def hard_example_sampler(indices_by_ranks, selection_pressure=10):\n",
    "\tN = len(indices_by_ranks)\n",
    "\tx = np.arange(1, N+1)\n",
    "\tx_exp = np.exp(-x*selection_pressure/N)\n",
    "\tx_cum = x_exp.sum()\n",
    "\tp_i_array = x_exp / x_cum\n",
    "\n",
    "\tplt.plot(p_i_array)\n",
    "\n",
    "\t# select 1 index based on probability\n",
    "\tp_i = np.random.uniform(low=p_i_array.min(), high=p_i_array.max(), size=1)[0]\n",
    "\tp_index = np.argwhere(p_i_array < p_i)[0,0]\n",
    "\tdata_index = indices_by_ranks[p_index]\n",
    "\treturn data_index\n"
   ]
  },
  {
   "cell_type": "code",
   "execution_count": 4,
   "metadata": {},
   "outputs": [
    {
     "name": "stdout",
     "output_type": "stream",
     "text": [
      "69\n"
     ]
    },
    {
     "data": {
      "image/png": "[encoded data removed]",
      "text/plain": [
       "<Figure size 432x288 with 1 Axes>"
      ]
     },
     "metadata": {
      "needs_background": "light"
     },
     "output_type": "display_data"
    }
   ],
   "source": [
    "indices_by_ranks = [68, 13,  7,  5, 51,  8, 91, 69, 49]\n",
    "idx = hard_example_sampler(indices_by_ranks, selection_pressure=1)\n",
    "print(idx)"
   ]
  },
  {
   "cell_type": "code",
   "execution_count": null,
   "metadata": {},
   "outputs": [],
   "source": []
  }
 ],
 "metadata": {
  "interpreter": {
   "hash": "e7370f93d1d0cde622a1f8e1c04877d8463912d04d973331ad4851f04de6915a"
  },
  "kernelspec": {
   "display_name": "Python 3.8.6 64-bit",
   "language": "python",
   "name": "python3"
  },
  "language_info": {
   "codemirror_mode": {
    "name": "ipython",
    "version": 3
   },
   "file_extension": ".py",
   "mimetype": "text/x-python",
   "name": "python",
   "nbconvert_exporter": "python",
   "pygments_lexer": "ipython3",
   "version": "3.8.6"
  },
  "orig_nbformat": 4
 },
 "nbformat": 4,
 "nbformat_minor": 2
}
