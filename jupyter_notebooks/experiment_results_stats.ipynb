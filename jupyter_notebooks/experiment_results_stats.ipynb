{
 "cells": [
  {
   "cell_type": "code",
   "execution_count": 34,
   "metadata": {},
   "outputs": [],
   "source": [
    "import os\n",
    "import glob\n",
    "import pandas as pd\n",
    "import matplotlib.pyplot as plt\n",
    "%matplotlib inline\n",
    "import numpy as np\n",
    "from scipy import stats"
   ]
  },
  {
   "cell_type": "code",
   "execution_count": 2,
   "metadata": {},
   "outputs": [],
   "source": [
    "metrics  = ['precision', 'recall', 'dice', 'hd', 'sd']"
   ]
  },
  {
   "cell_type": "code",
   "execution_count": 16,
   "metadata": {},
   "outputs": [],
   "source": [
    "def concat_all_folds(experiment_path):\n",
    "    \"\"\"This function retrieves the test results located in test_postprocess and \n",
    "    returns the averages performance per organ and overall.\n",
    "    \"\"\"\n",
    "    result = []\n",
    "    all_df = []\n",
    "    for filepath in glob.glob(experiment_path + '/*/*/test_postprocess/*.csv'):\n",
    "        df = pd.read_csv(filepath)\n",
    "        all_df.append(df)\n",
    "\n",
    "    all_df = pd.concat(all_df, axis=0)\n",
    "    # remove background\n",
    "    all_df = all_df.loc[:, ~all_df.columns.str.contains('background')]\n",
    "    # remove 'present labels' and 'mean_dice'\n",
    "    all_df = all_df.drop(['present labels', 'mean_dice'], axis=1)\n",
    "    return all_df\n",
    "    \n"
   ]
  },
  {
   "cell_type": "code",
   "execution_count": 85,
   "metadata": {},
   "outputs": [
    {
     "data": {
      "text/plain": [
       "['good-baseline-folds-noisy-data_05122022_160609',\n",
       " 'good-baseline-folds-32',\n",
       " 'basic-teacher-basic-student-folds',\n",
       " 'robust-teacher-folds_05122022_161207',\n",
       " 'robust-teacher-robust-student-folds',\n",
       " 'basic-teacher-folds-32',\n",
       " 'basic-teacher-robust-student-folds_02122022']"
      ]
     },
     "execution_count": 85,
     "metadata": {},
     "output_type": "execute_result"
    }
   ],
   "source": [
    "basepath='/export/scratch3/grewal/OAR_segmentation/runs/final_experiments_new'\n",
    "os.listdir(basepath)\n"
   ]
  },
  {
   "cell_type": "code",
   "execution_count": 86,
   "metadata": {},
   "outputs": [],
   "source": [
    "experiments_info = {'basic-student': 'basic-teacher-basic-student-folds',\n",
    "                    'robust-teacher': 'robust-teacher-folds_05122022_161207',\n",
    "                    'robust-teacher-robust-student': 'robust-teacher-robust-student-folds',\n",
    "                    'robust-student': 'basic-teacher-robust-student-folds_02122022',\n",
    "                    'unet-noisy': 'good-baseline-folds-noisy-data_05122022_160609',\n",
    "                    'unet': 'good-baseline-folds-32',\n",
    "                    'basic-teacher': 'basic-teacher-folds-32'}\n",
    "\n",
    "all_df = []\n",
    "for experiment_name, experiment_path in experiments_info.items():\n",
    "    experiment_fullpath = os.path.join(basepath, experiment_path)\n",
    "    df = concat_all_folds(experiment_fullpath)\n",
    "\n",
    "    # all metrics average over OARs\n",
    "    mean_metrics = {}\n",
    "    for metric in metrics:\n",
    "        mean_metrics[f\"{metric}\"] = df.filter(like=metric).mean(axis=1)\n",
    "\n",
    "    df_metrics = pd.DataFrame.from_dict(mean_metrics)\n",
    "    df_metrics[\"experiment_name\"] = experiment_name\n",
    "    all_df.append(df_metrics)\n",
    "\n",
    "df = pd.concat(all_df, axis=0)"
   ]
  },
  {
   "cell_type": "code",
   "execution_count": 50,
   "metadata": {},
   "outputs": [
    {
     "data": {
      "text/html": [
       "<div>\n",
       "<style scoped>\n",
       "    .dataframe tbody tr th:only-of-type {\n",
       "        vertical-align: middle;\n",
       "    }\n",
       "\n",
       "    .dataframe tbody tr th {\n",
       "        vertical-align: top;\n",
       "    }\n",
       "\n",
       "    .dataframe thead th {\n",
       "        text-align: right;\n",
       "    }\n",
       "</style>\n",
       "<table border=\"1\" class=\"dataframe\">\n",
       "  <thead>\n",
       "    <tr style=\"text-align: right;\">\n",
       "      <th></th>\n",
       "      <th>precision</th>\n",
       "      <th>recall</th>\n",
       "      <th>dice</th>\n",
       "      <th>hd</th>\n",
       "      <th>sd</th>\n",
       "      <th>experiment_name</th>\n",
       "    </tr>\n",
       "  </thead>\n",
       "  <tbody>\n",
       "    <tr>\n",
       "      <th>0</th>\n",
       "      <td>0.8875</td>\n",
       "      <td>0.8650</td>\n",
       "      <td>0.8600</td>\n",
       "      <td>5.77250</td>\n",
       "      <td>0.85875</td>\n",
       "      <td>basic-student</td>\n",
       "    </tr>\n",
       "    <tr>\n",
       "      <th>1</th>\n",
       "      <td>0.8725</td>\n",
       "      <td>0.8600</td>\n",
       "      <td>0.8600</td>\n",
       "      <td>13.71775</td>\n",
       "      <td>0.78775</td>\n",
       "      <td>basic-student</td>\n",
       "    </tr>\n",
       "    <tr>\n",
       "      <th>2</th>\n",
       "      <td>0.9125</td>\n",
       "      <td>0.8825</td>\n",
       "      <td>0.8950</td>\n",
       "      <td>9.18400</td>\n",
       "      <td>0.86400</td>\n",
       "      <td>basic-student</td>\n",
       "    </tr>\n",
       "    <tr>\n",
       "      <th>3</th>\n",
       "      <td>0.8850</td>\n",
       "      <td>0.9725</td>\n",
       "      <td>0.9300</td>\n",
       "      <td>5.25900</td>\n",
       "      <td>0.91500</td>\n",
       "      <td>basic-student</td>\n",
       "    </tr>\n",
       "    <tr>\n",
       "      <th>4</th>\n",
       "      <td>0.9175</td>\n",
       "      <td>0.8850</td>\n",
       "      <td>0.8925</td>\n",
       "      <td>7.69800</td>\n",
       "      <td>0.89125</td>\n",
       "      <td>basic-student</td>\n",
       "    </tr>\n",
       "  </tbody>\n",
       "</table>\n",
       "</div>"
      ],
      "text/plain": [
       "   precision  recall    dice        hd       sd experiment_name\n",
       "0     0.8875  0.8650  0.8600   5.77250  0.85875   basic-student\n",
       "1     0.8725  0.8600  0.8600  13.71775  0.78775   basic-student\n",
       "2     0.9125  0.8825  0.8950   9.18400  0.86400   basic-student\n",
       "3     0.8850  0.9725  0.9300   5.25900  0.91500   basic-student\n",
       "4     0.9175  0.8850  0.8925   7.69800  0.89125   basic-student"
      ]
     },
     "execution_count": 50,
     "metadata": {},
     "output_type": "execute_result"
    }
   ],
   "source": [
    "df.head()"
   ]
  },
  {
   "attachments": {},
   "cell_type": "markdown",
   "metadata": {},
   "source": [
    "## describe and normality test\n",
    "### We do Kolmogorov-Smirnov test because N>50"
   ]
  },
  {
   "cell_type": "code",
   "execution_count": 87,
   "metadata": {},
   "outputs": [
    {
     "name": "stdout",
     "output_type": "stream",
     "text": [
      "basic-student\n",
      "          dice         hd        sd\n",
      "mean  0.870086  10.635553  0.846372\n",
      "std   0.046246   7.996050  0.051777\n",
      "\n",
      "robust-teacher\n",
      "          dice         hd        sd\n",
      "mean  0.853086  11.567255  0.823047\n",
      "std   0.052472   7.727776  0.057154\n",
      "\n",
      "robust-teacher-robust-student\n",
      "          dice        hd        sd\n",
      "mean  0.871571  9.921549  0.848246\n",
      "std   0.041884  4.715523  0.046790\n",
      "\n",
      "robust-student\n",
      "         dice         hd        sd\n",
      "mean  0.87109  10.392840  0.847620\n",
      "std   0.04275   6.675385  0.048497\n",
      "\n",
      "unet-noisy\n",
      "          dice         hd        sd\n",
      "mean  0.834676  16.063017  0.802284\n",
      "std   0.061577   9.067847  0.068164\n",
      "\n",
      "unet\n",
      "          dice         hd        sd\n",
      "mean  0.850167  12.439081  0.819993\n",
      "std   0.059150  10.584513  0.065504\n",
      "\n",
      "basic-teacher\n",
      "          dice         hd        sd\n",
      "mean  0.853638  11.610893  0.823302\n",
      "std   0.055356   7.940141  0.061791\n",
      "\n"
     ]
    }
   ],
   "source": [
    "for experiment_name in experiments_info.keys():\n",
    "    print(experiment_name)\n",
    "    df_experiment = df.loc[df[\"experiment_name\"]==experiment_name]\n",
    "    print(df_experiment.describe().loc[[\"mean\", \"std\"], :])\n",
    "    print(\"\")\n",
    "\n",
    "\n",
    "# for experiment_name in experiments_info.keys():\n",
    "#     print(experiment_name)\n",
    "#     df_experiment = df.loc[df[\"experiment_name\"]==experiment_name]\n",
    "#     # kstest\n",
    "#     for metric in metrics:\n",
    "#         x = df_experiment.loc[:, metric].values\n",
    "#         ks_result = stats.ks_1samp(x, stats.norm.cdf)\n",
    "#         print(metric, ks_result)\n",
    "#     print(\"\")\n",
    "\n"
   ]
  },
  {
   "attachments": {},
   "cell_type": "markdown",
   "metadata": {},
   "source": [
    "### distributions not normal, so Friedman's test for main effect"
   ]
  },
  {
   "cell_type": "code",
   "execution_count": 79,
   "metadata": {},
   "outputs": [
    {
     "name": "stdout",
     "output_type": "stream",
     "text": [
      "precision\n",
      "FriedmanchisquareResult(statistic=16.05325329202224, pvalue=0.0011058295831555085)\n",
      "\n",
      "recall\n",
      "FriedmanchisquareResult(statistic=408.57903879560035, pvalue=3.0677939118411136e-88)\n",
      "\n",
      "dice\n",
      "FriedmanchisquareResult(statistic=256.94183095842305, pvalue=2.062188102852081e-55)\n",
      "\n",
      "hd\n",
      "FriedmanchisquareResult(statistic=73.88942031758283, pvalue=6.267728008645628e-16)\n",
      "\n",
      "sd\n",
      "FriedmanchisquareResult(statistic=267.0085927057482, pvalue=1.3697488436069074e-57)\n",
      "\n"
     ]
    }
   ],
   "source": [
    "metrics = [\"dice\", \"hd\", \"sd\"]\n",
    "for metric in metrics:\n",
    "    data = []\n",
    "    for experiment_name in experiments_info.keys():\n",
    "        x = df.loc[df.experiment_name==experiment_name, metric].values\n",
    "        data.append(x)\n",
    "    \n",
    "    test_stat = stats.friedmanchisquare(*data)\n",
    "    print(metric)\n",
    "    print(test_stat)\n",
    "    print(\"\")"
   ]
  },
  {
   "attachments": {},
   "cell_type": "markdown",
   "metadata": {},
   "source": [
    "### significant main effect in all metrics, so wilcoxon signed rank test for post-hoc comparisons"
   ]
  },
  {
   "cell_type": "code",
   "execution_count": 88,
   "metadata": {},
   "outputs": [
    {
     "name": "stdout",
     "output_type": "stream",
     "text": [
      "dice\n",
      "basic-student vs. robust-teacher WilcoxonResult(statistic=23161.5, pvalue=1.80360512459764e-36)\n",
      "basic-student vs. robust-teacher-robust-student WilcoxonResult(statistic=60722.0, pvalue=0.718460130921065)\n",
      "basic-student vs. robust-student WilcoxonResult(statistic=60930.5, pvalue=0.6538551549722539)\n",
      "basic-student vs. unet-noisy WilcoxonResult(statistic=10994.5, pvalue=6.41158955300171e-61)\n",
      "basic-student vs. unet WilcoxonResult(statistic=22854.5, pvalue=4.5126471640319576e-38)\n",
      "basic-student vs. basic-teacher WilcoxonResult(statistic=20046.5, pvalue=2.20615275903994e-41)\n",
      "robust-teacher vs. robust-teacher-robust-student WilcoxonResult(statistic=17704.0, pvalue=4.3389033085445e-46)\n",
      "robust-teacher vs. robust-student WilcoxonResult(statistic=22318.5, pvalue=1.553205221617875e-38)\n",
      "robust-teacher vs. unet-noisy WilcoxonResult(statistic=34556.5, pvalue=1.5302008162909071e-21)\n",
      "robust-teacher vs. unet WilcoxonResult(statistic=62780.5, pvalue=0.7950701554635415)\n",
      "robust-teacher vs. basic-teacher WilcoxonResult(statistic=62634.0, pvalue=0.7607084230850797)\n",
      "robust-teacher-robust-student vs. robust-student WilcoxonResult(statistic=60533.5, pvalue=0.7317280865495819)\n",
      "robust-teacher-robust-student vs. unet-noisy WilcoxonResult(statistic=10344.5, pvalue=1.0507686386737963e-62)\n",
      "robust-teacher-robust-student vs. unet WilcoxonResult(statistic=21157.0, pvalue=1.6026995462517557e-40)\n",
      "robust-teacher-robust-student vs. basic-teacher WilcoxonResult(statistic=22506.0, pvalue=3.976033728543741e-37)\n",
      "robust-student vs. unet-noisy WilcoxonResult(statistic=10417.0, pvalue=5.9170192660476e-63)\n",
      "robust-student vs. unet WilcoxonResult(statistic=21926.5, pvalue=5.557080128389612e-39)\n",
      "robust-student vs. basic-teacher WilcoxonResult(statistic=18434.5, pvalue=1.622796266309163e-44)\n",
      "unet-noisy vs. unet WilcoxonResult(statistic=37787.5, pvalue=5.95782817019717e-18)\n",
      "unet-noisy vs. basic-teacher WilcoxonResult(statistic=32358.5, pvalue=2.4436702394832398e-24)\n",
      "unet vs. basic-teacher WilcoxonResult(statistic=58757.5, pvalue=0.1362848281021002)\n",
      "\n",
      "hd\n",
      "basic-student vs. robust-teacher WilcoxonResult(statistic=46510.5, pvalue=2.866882573006051e-10)\n",
      "basic-student vs. robust-teacher-robust-student WilcoxonResult(statistic=60594.5, pvalue=0.022014158269112665)\n",
      "basic-student vs. robust-student WilcoxonResult(statistic=67949.0, pvalue=0.9903686484973812)\n",
      "basic-student vs. unet-noisy WilcoxonResult(statistic=15981.0, pvalue=1.4779717507584463e-52)\n",
      "basic-student vs. unet WilcoxonResult(statistic=40569.5, pvalue=1.5098289019453412e-15)\n",
      "basic-student vs. basic-teacher WilcoxonResult(statistic=42429.5, pvalue=6.914961404517397e-14)\n",
      "robust-teacher vs. robust-teacher-robust-student WilcoxonResult(statistic=35488.5, pvalue=1.3100083137925029e-20)\n",
      "robust-teacher vs. robust-student WilcoxonResult(statistic=46895.5, pvalue=2.7954210049366945e-10)\n",
      "robust-teacher vs. unet-noisy WilcoxonResult(statistic=24000.5, pvalue=2.3210162548871373e-38)\n",
      "robust-teacher vs. unet WilcoxonResult(statistic=62131.5, pvalue=0.08833445978555618)\n",
      "robust-teacher vs. basic-teacher WilcoxonResult(statistic=66177.0, pvalue=0.6505239273759656)\n",
      "robust-teacher-robust-student vs. robust-student WilcoxonResult(statistic=58228.0, pvalue=0.00685461107340246)\n",
      "robust-teacher-robust-student vs. unet-noisy WilcoxonResult(statistic=12270.5, pvalue=1.7207212394419465e-59)\n",
      "robust-teacher-robust-student vs. unet WilcoxonResult(statistic=34875.5, pvalue=1.4258425231531554e-22)\n",
      "robust-teacher-robust-student vs. basic-teacher WilcoxonResult(statistic=37708.5, pvalue=1.9919963743172716e-18)\n",
      "robust-student vs. unet-noisy WilcoxonResult(statistic=13212.5, pvalue=8.773545965007716e-58)\n",
      "robust-student vs. unet WilcoxonResult(statistic=40570.0, pvalue=6.40054018307493e-16)\n",
      "robust-student vs. basic-teacher WilcoxonResult(statistic=39704.0, pvalue=4.541384428922949e-16)\n",
      "unet-noisy vs. unet WilcoxonResult(statistic=29896.5, pvalue=2.1766054394839557e-29)\n",
      "unet-noisy vs. basic-teacher WilcoxonResult(statistic=25290.5, pvalue=4.494314232281302e-36)\n",
      "unet vs. basic-teacher WilcoxonResult(statistic=61409.5, pvalue=0.03993549803753605)\n",
      "\n",
      "sd\n",
      "basic-student vs. robust-teacher WilcoxonResult(statistic=23355.5, pvalue=3.366282841940865e-39)\n",
      "basic-student vs. robust-teacher-robust-student WilcoxonResult(statistic=65378.0, pvalue=0.3645756609744878)\n",
      "basic-student vs. robust-student WilcoxonResult(statistic=66563.5, pvalue=0.4768171897352639)\n",
      "basic-student vs. unet-noisy WilcoxonResult(statistic=9896.0, pvalue=1.1581366580160869e-64)\n",
      "basic-student vs. unet WilcoxonResult(statistic=25703.0, pvalue=1.2125923894853416e-35)\n",
      "basic-student vs. basic-teacher WilcoxonResult(statistic=21511.5, pvalue=2.6519592018887243e-42)\n",
      "robust-teacher vs. robust-teacher-robust-student WilcoxonResult(statistic=16823.5, pvalue=1.862807843113924e-49)\n",
      "robust-teacher vs. robust-student WilcoxonResult(statistic=21599.0, pvalue=1.0231436542808156e-41)\n",
      "robust-teacher vs. unet-noisy WilcoxonResult(statistic=36785.0, pvalue=4.469158296944356e-20)\n",
      "robust-teacher vs. unet WilcoxonResult(statistic=67755.5, pvalue=0.9455020510482709)\n",
      "robust-teacher vs. basic-teacher WilcoxonResult(statistic=67094.5, pvalue=0.737187702319862)\n",
      "robust-teacher-robust-student vs. robust-student WilcoxonResult(statistic=67707.0, pvalue=0.7020145136538595)\n",
      "robust-teacher-robust-student vs. unet-noisy WilcoxonResult(statistic=10137.0, pvalue=2.3775156964318114e-64)\n",
      "robust-teacher-robust-student vs. unet WilcoxonResult(statistic=22990.5, pvalue=8.366855034423215e-40)\n",
      "robust-teacher-robust-student vs. basic-teacher WilcoxonResult(statistic=22764.5, pvalue=9.60544628561827e-40)\n",
      "robust-student vs. unet-noisy WilcoxonResult(statistic=9815.0, pvalue=4.9065118247083246e-65)\n",
      "robust-student vs. unet WilcoxonResult(statistic=24967.0, pvalue=1.3785055161811336e-36)\n",
      "robust-student vs. basic-teacher WilcoxonResult(statistic=19535.0, pvalue=4.098955214890793e-45)\n",
      "unet-noisy vs. unet WilcoxonResult(statistic=39996.5, pvalue=6.762917981649067e-17)\n",
      "unet-noisy vs. basic-teacher WilcoxonResult(statistic=34027.0, pvalue=7.674729553222124e-24)\n",
      "unet vs. basic-teacher WilcoxonResult(statistic=63341.5, pvalue=0.13474208478158256)\n",
      "\n"
     ]
    }
   ],
   "source": [
    "metrics = [\"dice\", \"hd\", \"sd\"]\n",
    "experiment_names = list(experiments_info.keys())\n",
    "experiment_pairs = [(a, b) for idx, a in enumerate(experiment_names) for b in experiment_names[idx+1:]]\n",
    "for metric in metrics:\n",
    "    print(metric)\n",
    "    data ={}\n",
    "    for experiment_name in experiment_names:\n",
    "        x = df.loc[df.experiment_name==experiment_name, metric].values\n",
    "        data[experiment_name] = x\n",
    "    \n",
    "    for pair in experiment_pairs:\n",
    "        x, y = data[pair[0]], data[pair[1]]\n",
    "        test_stat = stats.wilcoxon(x, y)\n",
    "        print(f\"{pair[0]} vs. {pair[1]}\", test_stat)\n",
    "    print(\"\")"
   ]
  },
  {
   "cell_type": "code",
   "execution_count": 76,
   "metadata": {},
   "outputs": [
    {
     "name": "stdout",
     "output_type": "stream",
     "text": [
      "('dice', experiment_name\n",
      "basic-student                    True\n",
      "robust-student                   True\n",
      "robust-teacher                   True\n",
      "robust-teacher-robust-student    True\n",
      "Name: dice, dtype: bool)\n"
     ]
    }
   ],
   "source": [
    "for grp in x.items():\n",
    "    print(grp)"
   ]
  },
  {
   "cell_type": "code",
   "execution_count": null,
   "metadata": {},
   "outputs": [],
   "source": []
  }
 ],
 "metadata": {
  "kernelspec": {
   "display_name": ".venv",
   "language": "python",
   "name": "python3"
  },
  "language_info": {
   "codemirror_mode": {
    "name": "ipython",
    "version": 3
   },
   "file_extension": ".py",
   "mimetype": "text/x-python",
   "name": "python",
   "nbconvert_exporter": "python",
   "pygments_lexer": "ipython3",
   "version": "3.10.6"
  },
  "orig_nbformat": 4,
  "vscode": {
   "interpreter": {
    "hash": "1fa0cc5916a655ca8a08afbb58fc79ed9f1157e73551cc6da3387c9e4788706a"
   }
  }
 },
 "nbformat": 4,
 "nbformat_minor": 2
}
