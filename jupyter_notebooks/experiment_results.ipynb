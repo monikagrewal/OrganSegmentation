{
 "cells": [
  {
   "cell_type": "code",
   "execution_count": 1,
   "metadata": {},
   "outputs": [],
   "source": [
    "import os\n",
    "import glob\n",
    "import pandas as pd\n",
    "import matplotlib.pyplot as plt\n",
    "%matplotlib inline\n",
    "import numpy as np"
   ]
  },
  {
   "cell_type": "code",
   "execution_count": 2,
   "metadata": {},
   "outputs": [],
   "source": [
    "def extract_best_epochs(filepath):\n",
    "\t\"\"\"Extract the best epoch results (for each fold) for a given experiment.\"\"\"\n",
    "\torgan_names = [\"bowel_bag\", \"bladder\", \"rectum\", \"hip\"]\n",
    "\tmetrics  = ['precision', 'recall', 'dice']\n",
    "\n",
    "\tresults = []\n",
    "\ttry:\n",
    "\t\tdf = pd.read_csv(filepath)\n",
    "\n",
    "\t\tbest_epoch = df[\"best_epoch\"].max() - 1  #best_epoch counting starts from 1\n",
    "\t\tbest_row = df.loc[df[\"epoch\"]==best_epoch].drop('best_epoch', axis=1)\n",
    "\t\tbest_row.drop('mean_dice', inplace=True, axis=1) # Drop here because we recalculate\n",
    "\n",
    "\t\tfor metric in metrics:\n",
    "\t\t\t# Calculate mean per metric, ignoring background\n",
    "\t\t\tbest_row[f\"mean_{metric}\"] = best_row.loc[:, ~best_row.columns.str.contains('background')].filter(like=metric).mean(axis=1)\n",
    "\n",
    "\t\treturn best_row\n",
    "\texcept:\n",
    "\t\tprint(f\"Something went wrong at {filepath} probably due to an empty .csv\")\n",
    "\t\treturn pd.DataFrame([])"
   ]
  },
  {
   "cell_type": "code",
   "execution_count": 3,
   "metadata": {},
   "outputs": [],
   "source": [
    "def summarize_cv(basepath):\n",
    "\n",
    "    result = []\n",
    "    for filepath in glob.glob(basepath + '/' + '/*/*/epoch_results/*.csv'):\n",
    "        best_epoch = extract_best_epochs(filepath)\n",
    "\n",
    "        result.append(best_epoch)\n",
    "\n",
    "    if len(result) > 1:\n",
    "        df_result = pd.concat(result)\n",
    "        df_result.drop(['epoch', 'train_loss'], inplace=True, axis=1)\n",
    "\n",
    "        return df_result.mean()\n",
    "    else:\n",
    "        return pd.Series([], dtype='object')\n"
   ]
  },
  {
   "cell_type": "code",
   "execution_count": 4,
   "metadata": {},
   "outputs": [],
   "source": [
    "def summarize_test(basepath):\n",
    "    \"\"\"This function retrieves the test results located in test_postprocess and \n",
    "    returns the averages performance per organ and overall.\n",
    "    \"\"\"\n",
    "    result = []\n",
    "    for filepath in glob.glob(basepath + '/*/*/test_postprocess/*.csv'):\n",
    "        df = pd.read_csv(filepath)\n",
    "        metrics  = ['precision', 'recall', 'dice']\n",
    "\n",
    "        for metric in metrics:\n",
    "            # Calculate mean per metric, ignoring background\n",
    "            df[f\"mean_{metric}\"] = df.loc[:, ~df.columns.str.contains('background')].filter(like=metric).mean(axis=1)\n",
    "\n",
    "        result.append(df.mean(numeric_only=True).to_frame().T)\n",
    "        \n",
    "    if len(result) > 1:\n",
    "        result = pd.concat(result)\n",
    "\n",
    "        return result.mean()\n",
    "    elif len(result) == 1:\n",
    "        return result[0].squeeze()\n",
    "    else:\n",
    "        return pd.Series([], dtype='object')"
   ]
  },
  {
   "cell_type": "code",
   "execution_count": 5,
   "metadata": {},
   "outputs": [],
   "source": [
    "def analyze_results(basepath='/export/scratch3/grewal/OAR_segmentation/runs/final_experiments'):\n",
    "\t\"\"\"Analyze all the runs contained in the basepath.\n",
    "\t\n",
    "\tThe output of this function is a dict with keys (experiment, test/train) and value\n",
    "\tthe mean over all the folds.\n",
    "\t\"\"\"\n",
    "\tresult = {}\n",
    "\tfor experiment in os.listdir(basepath):\n",
    "\n",
    "\t\texperiment_path = basepath + '/' + experiment\n",
    "\t\tresult_cv = summarize_cv(experiment_path)\n",
    "\n",
    "\t\tif not result_cv.empty:\n",
    "\t\t\tresult[(experiment, 'train')] = result_cv\n",
    "\n",
    "\t\tresult_test = summarize_test(experiment_path)\n",
    "\n",
    "\t\tif not result_test.empty:\n",
    "\t\t\tresult[(experiment, 'test')] = result_test\n",
    "\t\t\n",
    "\treturn result"
   ]
  },
  {
   "cell_type": "code",
   "execution_count": 9,
   "metadata": {},
   "outputs": [
    {
     "name": "stdout",
     "output_type": "stream",
     "text": [
      "Something went wrong at /export/scratch3/grewal/OAR_segmentation/runs/final_experiments/basic-teacher-full-32/fold0/run0/epoch_results/epoch_results.csv probably due to an empty .csv\n",
      "Something went wrong at /export/scratch3/grewal/OAR_segmentation/runs/final_experiments/good-baseline-full-32/fold0/run0/epoch_results/epoch_results.csv probably due to an empty .csv\n",
      "Something went wrong at /export/scratch3/grewal/OAR_segmentation/runs/final_experiments/basic-teacher-basic-student-full/fold0/run0/epoch_results/epoch_results.csv probably due to an empty .csv\n"
     ]
    }
   ],
   "source": [
    "result = analyze_results()"
   ]
  },
  {
   "cell_type": "code",
   "execution_count": 10,
   "metadata": {},
   "outputs": [
    {
     "data": {
      "text/plain": [
       "[('good-baseline-full-100epochs_18112022_153147', 'test'),\n",
       " ('good-baseline-folds-32', 'train'),\n",
       " ('good-baseline-folds-32', 'test'),\n",
       " ('basic-teacher-basic-student-folds', 'train'),\n",
       " ('basic-teacher-basic-student-folds', 'test'),\n",
       " ('basic-teacher-full-32', 'test'),\n",
       " ('good-baseline-full-32', 'test'),\n",
       " ('basic-teacher-basic-student-full', 'test'),\n",
       " ('good-baseline-full-noisy-data-100epochs_18112022_153816', 'test'),\n",
       " ('good-baseline-full-noisy-data_18112022_121453', 'test'),\n",
       " ('basic-teacher-folds-32', 'train'),\n",
       " ('basic-teacher-folds-32', 'test')]"
      ]
     },
     "execution_count": 10,
     "metadata": {},
     "output_type": "execute_result"
    }
   ],
   "source": [
    "list(result.keys())"
   ]
  },
  {
   "cell_type": "code",
   "execution_count": 11,
   "metadata": {},
   "outputs": [
    {
     "data": {
      "text/plain": [
       "recall_background       0.999714\n",
       "precision_background    0.997810\n",
       "dice_background         0.999524\n",
       "recall_bowel_bag        0.776952\n",
       "precision_bowel_bag     0.900190\n",
       "dice_bowel_bag          0.826952\n",
       "recall_bladder          0.902095\n",
       "precision_bladder       0.905524\n",
       "dice_bladder            0.897524\n",
       "recall_hip              0.945619\n",
       "precision_hip           0.899714\n",
       "dice_hip                0.921048\n",
       "recall_rectum           0.776000\n",
       "precision_rectum        0.744857\n",
       "dice_rectum             0.739619\n",
       "mean_dice               0.846286\n",
       "mean_precision          0.862571\n",
       "mean_recall             0.850167\n",
       "Name: 0, dtype: float64"
      ]
     },
     "execution_count": 11,
     "metadata": {},
     "output_type": "execute_result"
    }
   ],
   "source": [
    "result[('basic-teacher-full-32', 'test')]"
   ]
  },
  {
   "cell_type": "code",
   "execution_count": null,
   "metadata": {},
   "outputs": [],
   "source": []
  }
 ],
 "metadata": {
  "kernelspec": {
   "display_name": "Python 3.10.6 ('.venv': poetry)",
   "language": "python",
   "name": "python3"
  },
  "language_info": {
   "codemirror_mode": {
    "name": "ipython",
    "version": 3
   },
   "file_extension": ".py",
   "mimetype": "text/x-python",
   "name": "python",
   "nbconvert_exporter": "python",
   "pygments_lexer": "ipython3",
   "version": "3.8.6"
  },
  "orig_nbformat": 4,
  "vscode": {
   "interpreter": {
    "hash": "e327ae8451872f4bbf4ab4ea22b865c7e3db89560ea501bc2705d2a8bd3a49e4"
   }
  }
 },
 "nbformat": 4,
 "nbformat_minor": 2
}
