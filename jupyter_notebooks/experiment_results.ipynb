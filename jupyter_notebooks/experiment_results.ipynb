{
 "cells": [
  {
   "cell_type": "code",
   "execution_count": 1,
   "metadata": {},
   "outputs": [],
   "source": [
    "import os\n",
    "import glob\n",
    "import pandas as pd\n",
    "import matplotlib.pyplot as plt\n",
    "%matplotlib inline\n",
    "import numpy as np"
   ]
  },
  {
   "cell_type": "code",
   "execution_count": 2,
   "metadata": {},
   "outputs": [],
   "source": [
    "metrics  = ['precision', 'recall', 'dice', 'hd', 'sd']"
   ]
  },
  {
   "cell_type": "code",
   "execution_count": 3,
   "metadata": {},
   "outputs": [],
   "source": [
    "def extract_best_epochs(filepath):\n",
    "\t\"\"\"Extract the best epoch results (for each fold) for a given experiment.\"\"\"\n",
    "\n",
    "\ttry:\n",
    "\t\tdf = pd.read_csv(filepath)\n",
    "\n",
    "\t\tbest_epoch = df[\"best_epoch\"].max() - 1  #best_epoch counting starts from 1\n",
    "\t\tbest_row = df.loc[df[\"epoch\"]==best_epoch].drop('best_epoch', axis=1)\n",
    "\t\tbest_row.drop('mean_dice', inplace=True, axis=1) # Drop here because we recalculate\n",
    "\n",
    "\t\tfor metric in metrics:\n",
    "\t\t\t# Calculate mean per metric, ignoring background\n",
    "\t\t\tbest_row[f\"mean_{metric}\"] = best_row.loc[:, ~best_row.columns.str.contains('background')].filter(like=metric).mean(axis=1)\n",
    "\n",
    "\t\treturn best_row\n",
    "\texcept:\n",
    "\t\tprint(f\"Something went wrong at {filepath} probably due to an empty .csv\")\n",
    "\t\treturn pd.DataFrame([])"
   ]
  },
  {
   "cell_type": "code",
   "execution_count": 4,
   "metadata": {},
   "outputs": [],
   "source": [
    "def summarize_cv(basepath):\n",
    "\n",
    "    result = []\n",
    "    for filepath in glob.glob(basepath + '/' + '/*/*/epoch_results/*.csv'):\n",
    "        best_epoch = extract_best_epochs(filepath)\n",
    "\n",
    "        result.append(best_epoch)\n",
    "\n",
    "    if len(result) > 1:\n",
    "        df_result = pd.concat(result)\n",
    "        df_result.drop(['epoch', 'train_loss'], inplace=True, axis=1)\n",
    "\n",
    "        # STD\n",
    "        df_std = df_result.copy()\n",
    "        df_std.columns = df_std.columns + \"_std\"\n",
    "        df_std = df_std.std()\n",
    "\n",
    "        # mean\n",
    "        df_mean = df_result.mean()\n",
    "\n",
    "        result = pd.concat([df_mean, df_std])\n",
    "\n",
    "        return result\n",
    "    else:\n",
    "        return pd.Series([], dtype='object')\n"
   ]
  },
  {
   "cell_type": "code",
   "execution_count": 5,
   "metadata": {},
   "outputs": [],
   "source": [
    "def summarize_test(basepath):\n",
    "    \"\"\"This function retrieves the test results located in test_postprocess and \n",
    "    returns the averages performance per organ and overall.\n",
    "    \"\"\"\n",
    "    result = []\n",
    "    for filepath in glob.glob(basepath + '/*/*/test_postprocess/*.csv'):\n",
    "        df = pd.read_csv(filepath)\n",
    "\n",
    "        for metric in metrics:\n",
    "            # Calculate mean per metric, ignoring background\n",
    "            df[f\"mean_{metric}\"] = df.loc[:, ~df.columns.str.contains('background')].filter(like=metric).mean(axis=1)\n",
    "\n",
    "        result.append(df.mean(numeric_only=True).to_frame().T)\n",
    "        \n",
    "    if len(result) > 1:\n",
    "        result = pd.concat(result)\n",
    "\n",
    "        df_std = result.copy()\n",
    "        df_std.columns = df_std.columns + \"_std\"\n",
    "        df_std = df_std.std()\n",
    "\n",
    "        df_mean = result.mean()\n",
    "\n",
    "        return pd.concat([df_mean, df_std])\n",
    "    elif len(result) == 1:\n",
    "        return result[0].squeeze()\n",
    "    else:\n",
    "        return pd.Series([], dtype='object')"
   ]
  },
  {
   "cell_type": "code",
   "execution_count": 6,
   "metadata": {},
   "outputs": [],
   "source": [
    "import re \n",
    "\n",
    "def is_std(x):\n",
    "    if 'std' in x:\n",
    "        return 'std'\n",
    "    else:\n",
    "        return 'value'"
   ]
  },
  {
   "cell_type": "code",
   "execution_count": 7,
   "metadata": {},
   "outputs": [],
   "source": [
    "def analyze_results(basepath='/export/scratch3/grewal/OAR_segmentation/runs/final_experiments'):\n",
    "\t\"\"\"Analyze all the runs contained in the basepath.\n",
    "\t\n",
    "\tThe output of this function is a dict with keys (experiment, test/train) and value\n",
    "\tthe mean over all the folds.\n",
    "\t\"\"\"\n",
    "\twith pd.ExcelWriter('./output/experiment_results.xlsx') as writer: \n",
    "\t\tfor experiment in os.listdir(basepath):\n",
    "\n",
    "\t\t\texperiment_path = basepath + '/' + experiment\n",
    "\t\t\tresult_cv = summarize_cv(experiment_path)\n",
    "\n",
    "\t\t\tif not result_cv.empty:\n",
    "\t\t\t\tresult_cv = result_cv.to_frame().reset_index().rename(columns={\"index\": \"key\", 0:\"value\"})\n",
    "\t\t\t\tresult_cv['train/test'] = 'train'\n",
    "\n",
    "\t\t\tresult_test = summarize_test(experiment_path)\n",
    "\n",
    "\t\t\tif not result_test.empty:\n",
    "\t\t\t\tresult_test = result_test.to_frame().reset_index().rename(columns={\"index\": \"key\", 0:\"value\"})\n",
    "\t\t\t\tresult_test['train/test'] = 'test'\n",
    "\t\t\t\n",
    "\t\t\tif (not result_cv.empty) and (not result_test.empty):\n",
    "\t\t\t\tresult = pd.concat([result_cv, result_test])\n",
    "\t\t\t\t\n",
    "\t\t\t\tresult['organ'] = result['key'].apply(lambda x: re.findall(r'(background|bladder|bowel_bag|hip|rectum|mean)', x)[0])\n",
    "\t\t\t\tresult['metric'] = result['key'].apply(lambda x: re.findall(r'(recall|dice|precision)', x)[0])\n",
    "\t\t\t\tresult['std'] = result['key'].apply(lambda x: is_std(x))\n",
    "\n",
    "\t\t\t\t# fix ordering\n",
    "\t\t\t\tresult['organ'] = pd.Categorical(result['organ'], ['background', 'bladder', 'bowel_bag','hip','rectum','mean'])\n",
    "\t\t\t\tresult['train/test'] = pd.Categorical(result['train/test'], ['train', 'test'])\n",
    "\t\t\t\tresult['std'] = pd.Categorical(result['std'], ['value', 'std'])\n",
    "\t\t\t\n",
    "\t\t\t\t# Only one value so sum does not do anything\n",
    "\t\t\t\tresult = result.groupby(['train/test', 'organ', 'metric', 'std']).sum(numeric_only=True)\n",
    "\n",
    "\t\t\t\tresult.to_excel(writer, sheet_name=experiment)\n",
    "\t\telse:\n",
    "\t\t\tprint(\"missing train or test\")\n",
    "    "
   ]
  },
  {
   "cell_type": "code",
   "execution_count": 9,
   "metadata": {},
   "outputs": [
    {
     "name": "stderr",
     "output_type": "stream",
     "text": [
      "/export/scratch1/home/dagvw/OAR_segmentation/.venv/lib/python3.8/site-packages/openpyxl/workbook/child.py:99: UserWarning: Title is more than 31 characters. Some applications may not be able to read the file\n",
      "  warnings.warn(\"Title is more than 31 characters. Some applications may not be able to read the file\")\n"
     ]
    },
    {
     "name": "stdout",
     "output_type": "stream",
     "text": [
      "Something went wrong at /export/scratch3/grewal/OAR_segmentation/runs/final_experiments/basic-teacher-full-32/fold0/run0/epoch_results/epoch_results.csv probably due to an empty .csv\n",
      "Something went wrong at /export/scratch3/grewal/OAR_segmentation/runs/final_experiments/good-baseline-full-32/fold0/run0/epoch_results/epoch_results.csv probably due to an empty .csv\n",
      "Something went wrong at /export/scratch3/grewal/OAR_segmentation/runs/final_experiments/basic-teacher-basic-student-full/fold0/run0/epoch_results/epoch_results.csv probably due to an empty .csv\n",
      "missing train or test\n"
     ]
    }
   ],
   "source": [
    "analyze_results()"
   ]
  },
  {
   "attachments": {},
   "cell_type": "markdown",
   "metadata": {},
   "source": [
    "# Haussdorf and Surface dice "
   ]
  },
  {
   "attachments": {},
   "cell_type": "markdown",
   "metadata": {},
   "source": [
    "Seperate section because these metrics aren't present for training and that gave some error"
   ]
  },
  {
   "cell_type": "code",
   "execution_count": 8,
   "metadata": {},
   "outputs": [
    {
     "data": {
      "text/plain": [
       "['basic-teacher-folds-32',\n",
       " 'good-baseline-noisy-folds',\n",
       " 'good-baseline-folds-32']"
      ]
     },
     "execution_count": 8,
     "metadata": {},
     "output_type": "execute_result"
    }
   ],
   "source": [
    "# Experiments\n",
    "basepath='/export/scratch1/home/dagvw/OAR_segmentation/runs'\n",
    "os.listdir(basepath)\n"
   ]
  },
  {
   "cell_type": "code",
   "execution_count": 11,
   "metadata": {},
   "outputs": [],
   "source": [
    "# choose experiment\n",
    "experiment = 'basic-teacher-folds-32'"
   ]
  },
  {
   "cell_type": "code",
   "execution_count": 12,
   "metadata": {},
   "outputs": [],
   "source": [
    "experiment_path = basepath + '/' + experiment\n",
    "\n",
    "result_test = summarize_test(experiment_path)\n",
    "\n",
    "if not result_test.empty:\n",
    "\tresult_test = result_test.to_frame().reset_index().rename(columns={\"index\": \"key\", 0:\"value\"})\n",
    "\tresult_test['train/test'] = 'test'"
   ]
  },
  {
   "cell_type": "code",
   "execution_count": 13,
   "metadata": {},
   "outputs": [
    {
     "data": {
      "text/html": [
       "<div>\n",
       "<style scoped>\n",
       "    .dataframe tbody tr th:only-of-type {\n",
       "        vertical-align: middle;\n",
       "    }\n",
       "\n",
       "    .dataframe tbody tr th {\n",
       "        vertical-align: top;\n",
       "    }\n",
       "\n",
       "    .dataframe thead th {\n",
       "        text-align: right;\n",
       "    }\n",
       "</style>\n",
       "<table border=\"1\" class=\"dataframe\">\n",
       "  <thead>\n",
       "    <tr style=\"text-align: right;\">\n",
       "      <th></th>\n",
       "      <th>key</th>\n",
       "      <th>value</th>\n",
       "      <th>train/test</th>\n",
       "    </tr>\n",
       "  </thead>\n",
       "  <tbody>\n",
       "    <tr>\n",
       "      <th>28</th>\n",
       "      <td>mean_hd</td>\n",
       "      <td>11.610893</td>\n",
       "      <td>test</td>\n",
       "    </tr>\n",
       "    <tr>\n",
       "      <th>29</th>\n",
       "      <td>mean_sd</td>\n",
       "      <td>0.823302</td>\n",
       "      <td>test</td>\n",
       "    </tr>\n",
       "    <tr>\n",
       "      <th>58</th>\n",
       "      <td>mean_hd_std</td>\n",
       "      <td>0.639509</td>\n",
       "      <td>test</td>\n",
       "    </tr>\n",
       "    <tr>\n",
       "      <th>59</th>\n",
       "      <td>mean_sd_std</td>\n",
       "      <td>0.006885</td>\n",
       "      <td>test</td>\n",
       "    </tr>\n",
       "  </tbody>\n",
       "</table>\n",
       "</div>"
      ],
      "text/plain": [
       "            key      value train/test\n",
       "28      mean_hd  11.610893       test\n",
       "29      mean_sd   0.823302       test\n",
       "58  mean_hd_std   0.639509       test\n",
       "59  mean_sd_std   0.006885       test"
      ]
     },
     "execution_count": 13,
     "metadata": {},
     "output_type": "execute_result"
    }
   ],
   "source": [
    "result_test[result_test['key'].isin(['mean_hd', 'mean_hd_std', 'mean_sd', 'mean_sd_std'])]"
   ]
  }
 ],
 "metadata": {
  "kernelspec": {
   "display_name": "Python 3.10.6 ('.venv': poetry)",
   "language": "python",
   "name": "python3"
  },
  "language_info": {
   "codemirror_mode": {
    "name": "ipython",
    "version": 3
   },
   "file_extension": ".py",
   "mimetype": "text/x-python",
   "name": "python",
   "nbconvert_exporter": "python",
   "pygments_lexer": "ipython3",
   "version": "3.8.6 (default, Sep 26 2022, 10:02:29) \n[GCC 12.2.1 20220819 (Red Hat 12.2.1-1)]"
  },
  "orig_nbformat": 4,
  "vscode": {
   "interpreter": {
    "hash": "e327ae8451872f4bbf4ab4ea22b865c7e3db89560ea501bc2705d2a8bd3a49e4"
   }
  }
 },
 "nbformat": 4,
 "nbformat_minor": 2
}
