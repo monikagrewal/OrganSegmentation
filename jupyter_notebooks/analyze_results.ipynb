{
 "cells": [
  {
   "cell_type": "code",
   "execution_count": 2,
   "source": [
    "import os\n",
    "import glob\n",
    "import pandas as pd\n",
    "import matplotlib.pyplot as plt\n",
    "%matplotlib inline\n",
    "import numpy as np"
   ],
   "outputs": [],
   "metadata": {}
  },
  {
   "cell_type": "code",
   "execution_count": 46,
   "source": [
    "def extract_info_all(filepath, metric):\n",
    "\t\"\"\"\n",
    "\tfor multi-class experiment csv\n",
    "\t\"\"\"\n",
    "\torgan_names = [\"bowel_bag\", \"bladder\", \"rectum\", \"hip\"]\n",
    "\tdf = pd.read_csv(filepath)\n",
    "\tbest_epoch = df[\"best_epoch\"].max() - 1  #best_epoch counting starts from 1\n",
    "\tbest_row = df.loc[df[\"epoch\"]==best_epoch]\n",
    "\tvalues = {}\n",
    "\tfor organ_name in organ_names:\n",
    "\t\tvalues[organ_name] = best_row[f\"{metric}_{organ_name}\"].tolist()[0]\n",
    "\treturn values\n",
    "\n",
    "\n",
    "def extract_info(filepath, metric, organ_name):\n",
    "\tdf = pd.read_csv(filepath)\n",
    "\tbest_epoch = df[\"best_epoch\"].max() - 1  #best_epoch counting starts from 1\n",
    "\tbest_row = df.loc[df[\"epoch\"]==best_epoch]\n",
    "\tvalues = best_row[f\"{metric}_{organ_name}\"].tolist()[0]\n",
    "\treturn values"
   ],
   "outputs": [],
   "metadata": {}
  },
  {
   "cell_type": "code",
   "execution_count": 53,
   "source": [
    "metric = \"precision\"\n",
    "experiment_info = {'all_class': '../runs/all-classes_27082021_172742',\n",
    "\t\t\t\t\t'bowel_bag': '../runs/binary-bowel_bag_30082021_155606',\n",
    "\t\t\t\t\t'hip': '../runs/binary-hip_30082021_170839',\n",
    "\t\t\t\t\t'bladder': '../runs/binary-bladder_27082021_173452',\n",
    "\t\t\t\t\t'rectum': \"../runs/binary-rectum_29082021_211829\"\n",
    "}\n",
    "\n",
    "data = {}\n",
    "for experiment_name, experiment_folder in experiment_info.items():\n",
    "\tfilepaths = glob.glob(experiment_folder + \"/*/*/epoch_results/*.csv\")\n",
    "\n",
    "\tfor filepath in filepaths:\n",
    "\t\tif experiment_name == \"all_class\":\n",
    "\t\t\tvalues_all = extract_info_all(filepath, metric)\n",
    "\t\t\tfor organ_name, value in values_all.items():\n",
    "\t\t\t\tcolname = \"multiclass_\" + organ_name\n",
    "\t\t\t\tval_list = data.get(colname, [])\n",
    "\t\t\t\tval_list.append(value)\n",
    "\t\t\t\tdata[colname] = val_list\n",
    "\t\telse:\n",
    "\t\t\tvalue = extract_info(filepath, metric, experiment_name)\n",
    "\t\t\tval_list = data.get(experiment_name, [])\n",
    "\t\t\tval_list.append(value)\n",
    "\t\t\tdata[experiment_name] = val_list\n",
    "\n",
    "print(data)\n"
   ],
   "outputs": [
    {
     "output_type": "stream",
     "name": "stdout",
     "text": [
      "{'multiclass_bowel_bag': [0.8081481481481481, 0.8066666666666668, 0.8330769230769233, 0.8107692307692306, 0.7240740740740741, 0.7296296296296297, 0.8044444444444444, 0.7640740740740741, 0.7370370370370373, 0.8051851851851851], 'multiclass_bladder': [0.9203703703703704, 0.8733333333333334, 0.8503846153846155, 0.837307692307692, 0.8737037037037035, 0.925555555555556, 0.904074074074074, 0.8881481481481481, 0.8503703703703704, 0.8537037037037037], 'multiclass_rectum': [0.7662962962962963, 0.7514814814814814, 0.7799999999999999, 0.7484615384615384, 0.7377777777777778, 0.7433333333333332, 0.6781481481481481, 0.7170370370370369, 0.7337037037037036, 0.7362962962962962], 'multiclass_hip': [0.8481481481481481, 0.8488888888888888, 0.8511538461538461, 0.8926923076923079, 0.8755555555555558, 0.8566666666666666, 0.8918518518518519, 0.8948148148148148, 0.9092592592592592, 0.8988888888888888], 'bowel_bag': [0.7644776119402986, 0.7267164179104477, 0.7471212121212119, 0.7724242424242421, 0.7536363636363634, 0.7407575757575756, 0.7401515151515152, 0.7675757575757574, 0.7843939393939392], 'hip': [0.821098901098901, 0.8790109890109883, 0.8484615384615387, 0.8502197802197801, 0.840888888888889], 'bladder': [0.770331753554502, 0.7681042654028435, 0.7734761904761904], 'rectum': [0.6616564417177911, 0.6506134969325154, 0.663435582822086, 0.6408588957055217]}\n"
     ]
    }
   ],
   "metadata": {}
  },
  {
   "cell_type": "code",
   "execution_count": 54,
   "source": [
    "# not all runs are complete, so impute with None\n",
    "nruns = [len(val) for _, val in data.items()]\n",
    "max_runs = max(nruns)\n",
    "for key, val in data.items():\n",
    "\tif len(val) < max_runs:\n",
    "\t\textra_entries = [None for _ in range(max_runs - len(val))]\n",
    "\t\tdata[key] = data[key] + extra_entries\n",
    "print(data)\n"
   ],
   "outputs": [
    {
     "output_type": "stream",
     "name": "stdout",
     "text": [
      "{'multiclass_bowel_bag': [0.8081481481481481, 0.8066666666666668, 0.8330769230769233, 0.8107692307692306, 0.7240740740740741, 0.7296296296296297, 0.8044444444444444, 0.7640740740740741, 0.7370370370370373, 0.8051851851851851], 'multiclass_bladder': [0.9203703703703704, 0.8733333333333334, 0.8503846153846155, 0.837307692307692, 0.8737037037037035, 0.925555555555556, 0.904074074074074, 0.8881481481481481, 0.8503703703703704, 0.8537037037037037], 'multiclass_rectum': [0.7662962962962963, 0.7514814814814814, 0.7799999999999999, 0.7484615384615384, 0.7377777777777778, 0.7433333333333332, 0.6781481481481481, 0.7170370370370369, 0.7337037037037036, 0.7362962962962962], 'multiclass_hip': [0.8481481481481481, 0.8488888888888888, 0.8511538461538461, 0.8926923076923079, 0.8755555555555558, 0.8566666666666666, 0.8918518518518519, 0.8948148148148148, 0.9092592592592592, 0.8988888888888888], 'bowel_bag': [0.7644776119402986, 0.7267164179104477, 0.7471212121212119, 0.7724242424242421, 0.7536363636363634, 0.7407575757575756, 0.7401515151515152, 0.7675757575757574, 0.7843939393939392, None], 'hip': [0.821098901098901, 0.8790109890109883, 0.8484615384615387, 0.8502197802197801, 0.840888888888889, None, None, None, None, None], 'bladder': [0.770331753554502, 0.7681042654028435, 0.7734761904761904, None, None, None, None, None, None, None], 'rectum': [0.6616564417177911, 0.6506134969325154, 0.663435582822086, 0.6408588957055217, None, None, None, None, None, None]}\n"
     ]
    }
   ],
   "metadata": {}
  },
  {
   "cell_type": "code",
   "execution_count": 55,
   "source": [
    "dice_info = pd.DataFrame.from_dict(data)\n",
    "dice_info.boxplot(figsize=(15,8))"
   ],
   "outputs": [
    {
     "output_type": "execute_result",
     "data": {
      "text/plain": [
       "<AxesSubplot:>"
      ]
     },
     "metadata": {},
     "execution_count": 55
    },
    {
     "output_type": "display_data",
     "data": {
      "image/png": "[encoded data removed]",
      "text/plain": [
       "<Figure size 1080x576 with 1 Axes>"
      ]
     },
     "metadata": {
      "needs_background": "light"
     }
    }
   ],
   "metadata": {}
  },
  {
   "cell_type": "code",
   "execution_count": null,
   "source": [],
   "outputs": [],
   "metadata": {}
  }
 ],
 "metadata": {
  "orig_nbformat": 4,
  "language_info": {
   "name": "python",
   "version": "3.8.6",
   "mimetype": "text/x-python",
   "codemirror_mode": {
    "name": "ipython",
    "version": 3
   },
   "pygments_lexer": "ipython3",
   "nbconvert_exporter": "python",
   "file_extension": ".py"
  },
  "kernelspec": {
   "name": "python3",
   "display_name": "Python 3.8.6 64-bit"
  },
  "interpreter": {
   "hash": "31f2aee4e71d21fbe5cf8b01ff0e069b9275f58929596ceb00d14d90e3e16cd6"
  }
 },
 "nbformat": 4,
 "nbformat_minor": 2
}