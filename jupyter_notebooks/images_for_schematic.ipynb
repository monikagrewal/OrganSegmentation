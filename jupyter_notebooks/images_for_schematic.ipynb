{
 "cells": [
  {
   "cell_type": "code",
   "execution_count": 2,
   "metadata": {},
   "outputs": [],
   "source": [
    "import os\n",
    "import numpy as np\n",
    "import pandas as pd\n",
    "import matplotlib\n",
    "from matplotlib.ticker import FormatStrFormatter\n",
    "import matplotlib.pyplot as plt\n",
    "%matplotlib inline\n",
    "import cv2\n",
    "import json"
   ]
  },
  {
   "cell_type": "code",
   "execution_count": 18,
   "metadata": {},
   "outputs": [],
   "source": [
    "def crop_center(im:np.array, crop_width: int=50, crop_height: int=120) \\\n",
    "\t-> np.array:\n",
    "\t\"\"\"\n",
    "\tim: 2D np array, single slice, 3 channels\n",
    "\t\"\"\"\n",
    "\th, w, c = im.shape\n",
    "\tim = im[crop_height : h - crop_height, crop_width : w - crop_width, :]\n",
    "\treturn im"
   ]
  },
  {
   "cell_type": "code",
   "execution_count": 49,
   "metadata": {},
   "outputs": [],
   "source": [
    "def visualize_data(volume, annotations, annotations_auto, slices, output_path, patient_id):\n",
    "\tcolors = {0: (1, 0, 0), 1: (0, 0, 1), 2: (0, 1, 0), 3: (1, 0, 0), 4: (0, 1, 1)}\n",
    "\tcolors_auto = {0: (1, 0, 0), 1: (0, 0, 0.8), 2: (0.8, 1, 0), 3: (0.5, 0, 0.2), 4: (0, 0.5, 1)}  #for auto\n",
    "\t\n",
    "\timlist = []\n",
    "\tfor i in slices:\n",
    "\t\timg1 = volume[i]\n",
    "\t\timg1 = cv2.cvtColor(img1, cv2.COLOR_GRAY2RGB)\n",
    "\t\timg1_cropped = crop_center(img1)\n",
    "\t\timg1_cropped = cv2.resize(img1_cropped, (272, 272))\n",
    "\t\tcv2.imwrite(os.path.join(output_path, f\"{patient_id}_{i}_image.jpg\"), (img1_cropped * 255).astype(np.uint8))\n",
    "\n",
    "\t\tmask = np.zeros_like(img1)\n",
    "\t\tannotations_slice = [item for item in annotations if item[0]==i]\n",
    "\t\tprint(f\"annotations for slice {i}: {len(annotations_slice)}\")\n",
    "\t\tif len(annotations_slice)>0:\n",
    "\t\t\tfor class_idx in [1, 3, 4]:\n",
    "\t\t\t\tcontours = [np.array(item[2]).astype(np.int32) for item in annotations_slice if item[1]==class_idx]\n",
    "\t\t\t\tprint(f\"contours for class {class_idx}: {len(contours)}\")\n",
    "\t\t\t\tif len(contours)>0:\n",
    "\t\t\t\t\t# mask = cv2.drawContours(mask, contours, -1, colors[class_idx], 2, cv2.LINE_8)\n",
    "\t\t\t\t\tmask = cv2.fillPoly(mask, contours, colors[class_idx], cv2.LINE_8)\n",
    "\t\t\n",
    "\t\tannotations_auto_slice = [item for item in annotations_auto if item[0]==i]\n",
    "\t\tprint(f\"annotations for slice {i}: {len(annotations_auto_slice)}\")\n",
    "\t\tif len(annotations_auto_slice)>0:\n",
    "\t\t\tfor class_idx in [2]:\n",
    "\t\t\t\tcontours = [np.array(item[2]).astype(np.int32) for item in annotations_auto_slice if item[1]==class_idx]\n",
    "\t\t\t\tprint(f\"contours for class {class_idx}: {len(contours)}\")\n",
    "\t\t\t\tif len(contours)>0:\n",
    "\t\t\t\t\t# mask = cv2.drawContours(mask, contours, -1, colors[class_idx], 2, cv2.LINE_8)\n",
    "\t\t\t\t\tmask = cv2.fillPoly(mask, contours, colors_auto[class_idx], cv2.LINE_8)\n",
    "\t\t\n",
    "\t\tmask = crop_center(mask)\n",
    "\t\tmask = cv2.resize(mask, (272, 272))\n",
    "\t\tcv2.imwrite(os.path.join(output_path, f\"{patient_id}_{i}_mask_imputed.jpg\"), (mask * 255).astype(np.uint8))"
   ]
  },
  {
   "cell_type": "code",
   "execution_count": 51,
   "metadata": {},
   "outputs": [
    {
     "name": "stdout",
     "output_type": "stream",
     "text": [
      "annotations for slice 63: 4\n",
      "contours for class 1: 0\n",
      "contours for class 3: 2\n",
      "contours for class 4: 1\n",
      "annotations for slice 63: 4\n",
      "contours for class 2: 1\n"
     ]
    }
   ],
   "source": [
    "root_path = \"../outputs/autocontours_review_processed\"\n",
    "output_path = \"../outputs/schematic\"\n",
    "os.makedirs(output_path, exist_ok=True)\n",
    "\n",
    "dicom_info = [(3, 63)]  # (patient_id, slice_idx)\n",
    "\n",
    "for patient_id, slice_idx in dicom_info:\n",
    "\tpatient_path = os.path.join(root_path, \"{0:03d}_CT_EBRT\".format(patient_id))\n",
    "\timage = np.load(os.path.join(patient_path, \"image.npz\"))[\"volume\"]\n",
    "\tseg_manual = json.load(open(os.path.join(patient_path, \"manual.json\"), \"r\"))\n",
    "\tseg_auto = json.load(open(os.path.join(patient_path, \"auto.json\"), \"r\"))\n",
    "\tvisualize_data(image, seg_manual, seg_auto, [slice_idx], output_path, patient_id)"
   ]
  },
  {
   "attachments": {},
   "cell_type": "markdown",
   "metadata": {},
   "source": [
    "## random prediction"
   ]
  },
  {
   "cell_type": "code",
   "execution_count": 55,
   "metadata": {},
   "outputs": [
    {
     "name": "stdout",
     "output_type": "stream",
     "text": [
      "3 0\n"
     ]
    },
    {
     "data": {
      "text/plain": [
       "True"
      ]
     },
     "execution_count": 55,
     "metadata": {},
     "output_type": "execute_result"
    }
   ],
   "source": [
    "colors_auto = {0: (0, 0, 0), 1: (0, 0, 0.8), 2: (0.8, 1, 0), 3: (0.5, 0, 0.2), 4: (0, 0.5, 1)}  #for auto\n",
    "\n",
    "img = (np.random.random((40, 40)) * 4).astype(np.int16)\n",
    "print(img.max(), img.min())\n",
    "img_color = np.zeros((40, 40, 3)).astype(np.float32)\n",
    "for idx, color in colors_auto.items():\n",
    "    img_color[img==idx] = color\n",
    "\n",
    "cv2.imwrite(os.path.join(output_path, f\"random_pred.jpg\"), (img_color * 255).astype(np.uint8))"
   ]
  },
  {
   "cell_type": "code",
   "execution_count": 4,
   "metadata": {},
   "outputs": [
    {
     "data": {
      "text/plain": [
       "-1.6094379124341003"
      ]
     },
     "execution_count": 4,
     "metadata": {},
     "output_type": "execute_result"
    }
   ],
   "source": [
    "5*0.2*np.log(0.2)"
   ]
  },
  {
   "cell_type": "code",
   "execution_count": 6,
   "metadata": {},
   "outputs": [
    {
     "data": {
      "text/plain": [
       "0.20189651799465538"
      ]
     },
     "execution_count": 6,
     "metadata": {},
     "output_type": "execute_result"
    }
   ],
   "source": [
    "np.exp(-1.6)"
   ]
  },
  {
   "cell_type": "code",
   "execution_count": null,
   "metadata": {},
   "outputs": [],
   "source": []
  }
 ],
 "metadata": {
  "kernelspec": {
   "display_name": ".venv",
   "language": "python",
   "name": "python3"
  },
  "language_info": {
   "codemirror_mode": {
    "name": "ipython",
    "version": 3
   },
   "file_extension": ".py",
   "mimetype": "text/x-python",
   "name": "python",
   "nbconvert_exporter": "python",
   "pygments_lexer": "ipython3",
   "version": "3.10.8 (main, Oct 12 2022, 00:00:00) [GCC 12.2.1 20220819 (Red Hat 12.2.1-2)]"
  },
  "orig_nbformat": 4,
  "vscode": {
   "interpreter": {
    "hash": "902a5613a99ddf1cb750f12c260173759d67a5de98bad3051c0e12aad3917796"
   }
  }
 },
 "nbformat": 4,
 "nbformat_minor": 2
}
