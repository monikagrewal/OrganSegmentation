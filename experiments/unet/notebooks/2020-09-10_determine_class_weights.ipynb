{
 "cells": [
  {
   "cell_type": "code",
   "execution_count": 1,
   "metadata": {},
   "outputs": [],
   "source": [
    "import numpy as np\n",
    "import pandas as pd\n",
    "import matplotlib.pyplot as plt\n",
    "import seaborn as sns\n",
    "from tqdm.auto import tqdm"
   ]
  },
  {
   "cell_type": "code",
   "execution_count": 2,
   "metadata": {},
   "outputs": [],
   "source": [
    "import sys\n",
    "sys.path.append('../')\n",
    "sys.path.append('../../')"
   ]
  },
  {
   "cell_type": "code",
   "execution_count": 3,
   "metadata": {},
   "outputs": [
    {
     "data": {
      "text/plain": [
       "<module 'torch_AMCDataset' from '../torch_AMCDataset.py'>"
      ]
     },
     "execution_count": 3,
     "metadata": {},
     "output_type": "execute_result"
    }
   ],
   "source": [
    "import torch_AMCDataset\n",
    "from importlib import reload  \n",
    "\n",
    "reload(torch_AMCDataset)"
   ]
  },
  {
   "cell_type": "code",
   "execution_count": 5,
   "metadata": {},
   "outputs": [],
   "source": [
    "root_dir = '/export/scratch2/bvdp/Data/Projects_DICOM_data/ThreeD/MODIR_data_train_split_preprocessed_21-08-2020/'\n",
    "meta_path = '/export/scratch3/bvdp/segmentation/OAR_segmentation/data_preparation/meta/dataset_train_21-08-2020_slice_annot.csv'"
   ]
  },
  {
   "cell_type": "code",
   "execution_count": 7,
   "metadata": {},
   "outputs": [],
   "source": [
    "train_dataset = torch_AMCDataset.AMCDataset(root_dir, meta_path, transform=None, is_training=True)"
   ]
  },
  {
   "cell_type": "code",
   "execution_count": 58,
   "metadata": {},
   "outputs": [
    {
     "name": "stdout",
     "output_type": "stream",
     "text": [
      "(1, 133, 200, 200) (133, 200, 200)\n",
      "(1, 201, 200, 200) (201, 200, 200)\n",
      "(1, 196, 200, 200) (196, 200, 200)\n",
      "(1, 179, 240, 240) (179, 240, 240)\n",
      "(1, 139, 260, 260) (139, 260, 260)\n",
      "(1, 159, 200, 200) (159, 200, 200)\n",
      "(1, 136, 200, 200) (136, 200, 200)\n",
      "(1, 155, 200, 200) (155, 200, 200)\n",
      "(1, 165, 200, 200) (165, 200, 200)\n",
      "(1, 155, 200, 200) (155, 200, 200)\n",
      "(1, 157, 260, 260) (157, 260, 260)\n",
      "(1, 194, 260, 260) (194, 260, 260)\n",
      "(1, 194, 260, 260) (194, 260, 260)\n",
      "(1, 152, 200, 200) (152, 200, 200)\n",
      "(1, 160, 200, 200) (160, 200, 200)\n",
      "(1, 171, 260, 260) (171, 260, 260)\n",
      "(1, 162, 200, 200) (162, 200, 200)\n",
      "(1, 151, 200, 200) (151, 200, 200)\n",
      "(1, 208, 260, 260) (208, 260, 260)\n",
      "(1, 158, 260, 260) (158, 260, 260)\n",
      "(1, 143, 260, 260) (143, 260, 260)\n",
      "(1, 134, 200, 200) (134, 200, 200)\n",
      "(1, 153, 200, 200) (153, 200, 200)\n",
      "(1, 165, 200, 200) (165, 200, 200)\n",
      "(1, 154, 200, 200) (154, 200, 200)\n",
      "(1, 137, 200, 200) (137, 200, 200)\n",
      "(1, 195, 200, 200) (195, 200, 200)\n",
      "(1, 172, 240, 240) (172, 240, 240)\n",
      "(1, 172, 240, 240) (172, 240, 240)\n",
      "(1, 192, 260, 260) (192, 260, 260)\n",
      "(1, 155, 260, 260) (155, 260, 260)\n",
      "(1, 166, 260, 260) (166, 260, 260)\n",
      "(1, 183, 200, 200) (183, 200, 200)\n",
      "(1, 157, 200, 200) (157, 200, 200)\n",
      "(1, 159, 200, 200) (159, 200, 200)\n",
      "(1, 159, 200, 200) (159, 200, 200)\n",
      "(1, 152, 200, 200) (152, 200, 200)\n",
      "(1, 168, 240, 240) (168, 240, 240)\n",
      "(1, 137, 200, 200) (137, 200, 200)\n",
      "(1, 145, 200, 200) (145, 200, 200)\n",
      "(1, 163, 260, 260) (163, 260, 260)\n",
      "(1, 130, 200, 200) (130, 200, 200)\n",
      "(1, 183, 260, 260) (183, 260, 260)\n",
      "(1, 141, 200, 200) (141, 200, 200)\n",
      "(1, 203, 200, 200) (203, 200, 200)\n",
      "(1, 153, 260, 260) (153, 260, 260)\n",
      "(1, 139, 200, 200) (139, 200, 200)\n",
      "(1, 147, 200, 200) (147, 200, 200)\n",
      "(1, 147, 200, 200) (147, 200, 200)\n",
      "(1, 146, 200, 200) (146, 200, 200)\n",
      "(1, 139, 240, 240) (139, 240, 240)\n",
      "(1, 178, 260, 260) (178, 260, 260)\n",
      "(1, 127, 200, 200) (127, 200, 200)\n",
      "(1, 135, 200, 200) (135, 200, 200)\n",
      "(1, 173, 240, 240) (173, 240, 240)\n",
      "(1, 159, 260, 260) (159, 260, 260)\n",
      "(1, 155, 200, 200) (155, 200, 200)\n",
      "(1, 143, 260, 260) (143, 260, 260)\n",
      "(1, 182, 200, 200) (182, 200, 200)\n",
      "(1, 171, 240, 240) (171, 240, 240)\n",
      "(1, 171, 240, 240) (171, 240, 240)\n",
      "(1, 148, 260, 260) (148, 260, 260)\n",
      "(1, 172, 200, 200) (172, 200, 200)\n",
      "(1, 172, 200, 200) (172, 200, 200)\n",
      "(1, 159, 200, 200) (159, 200, 200)\n",
      "(1, 151, 200, 200) (151, 200, 200)\n",
      "(1, 167, 160, 160) (167, 160, 160)\n",
      "(1, 172, 260, 260) (172, 260, 260)\n",
      "(1, 205, 240, 240) (205, 240, 240)\n",
      "(1, 160, 200, 200) (160, 200, 200)\n",
      "(1, 150, 200, 200) (150, 200, 200)\n",
      "(1, 179, 200, 200) (179, 200, 200)\n",
      "(1, 141, 200, 200) (141, 200, 200)\n",
      "(1, 139, 240, 240) (139, 240, 240)\n",
      "(1, 161, 260, 260) (161, 260, 260)\n",
      "(1, 152, 200, 200) (152, 200, 200)\n",
      "(1, 150, 200, 200) (150, 200, 200)\n",
      "(1, 168, 200, 200) (168, 200, 200)\n",
      "(1, 140, 200, 200) (140, 200, 200)\n",
      "(1, 140, 200, 200) (140, 200, 200)\n",
      "(1, 167, 240, 240) (167, 240, 240)\n",
      "(1, 138, 200, 200) (138, 200, 200)\n",
      "(1, 158, 260, 260) (158, 260, 260)\n",
      "(1, 145, 240, 240) (145, 240, 240)\n",
      "(1, 160, 200, 200) (160, 200, 200)\n",
      "(1, 169, 240, 240) (169, 240, 240)\n",
      "(1, 190, 260, 260) (190, 260, 260)\n",
      "(1, 190, 260, 260) (190, 260, 260)\n",
      "(1, 195, 200, 200) (195, 200, 200)\n",
      "(1, 144, 200, 200) (144, 200, 200)\n",
      "(1, 159, 200, 200) (159, 200, 200)\n",
      "(1, 132, 200, 200) (132, 200, 200)\n",
      "(1, 157, 200, 200) (157, 200, 200)\n",
      "(1, 137, 200, 200) (137, 200, 200)\n",
      "(1, 163, 200, 200) (163, 200, 200)\n",
      "(1, 189, 200, 200) (189, 200, 200)\n",
      "(1, 167, 200, 200) (167, 200, 200)\n",
      "(1, 142, 200, 200) (142, 200, 200)\n",
      "(1, 165, 200, 200) (165, 200, 200)\n",
      "(1, 165, 200, 200) (165, 200, 200)\n",
      "(1, 127, 200, 200) (127, 200, 200)\n",
      "(1, 144, 200, 200) (144, 200, 200)\n",
      "(1, 168, 200, 200) (168, 200, 200)\n",
      "(1, 171, 260, 260) (171, 260, 260)\n",
      "(1, 147, 200, 200) (147, 200, 200)\n",
      "(1, 169, 260, 260) (169, 260, 260)\n",
      "(1, 171, 260, 260) (171, 260, 260)\n"
     ]
    },
    {
     "data": {
      "text/plain": [
       "Counter({0: 824948295, 1: 15136142, 2: 2062197, 3: 582369, 4: 631797})"
      ]
     },
     "execution_count": 58,
     "metadata": {},
     "output_type": "execute_result"
    }
   ],
   "source": [
    "from collections import Counter\n",
    "\n",
    "counter = Counter()\n",
    "for vol, mask in train_dataset:\n",
    "    print(vol.shape, mask.shape)\n",
    "    counts = dict(zip(*np.unique(mask, return_counts=True)))\n",
    "    counter.update(counts)\n",
    "counter"
   ]
  },
  {
   "cell_type": "code",
   "execution_count": 97,
   "metadata": {},
   "outputs": [
    {
     "data": {
      "text/plain": [
       "Counter({0: 824948295, 1: 15136142, 2: 2062197, 3: 582369, 4: 631797})"
      ]
     },
     "execution_count": 97,
     "metadata": {},
     "output_type": "execute_result"
    }
   ],
   "source": [
    "counter"
   ]
  },
  {
   "cell_type": "code",
   "execution_count": 98,
   "metadata": {},
   "outputs": [
    {
     "data": {
      "text/plain": [
       "<BarContainer object of 5 artists>"
      ]
     },
     "execution_count": 98,
     "metadata": {},
     "output_type": "execute_result"
    },
    {
     "data": {
      "image/png": "[encoded data removed]",
      "text/plain": [
       "<Figure size 432x288 with 1 Axes>"
      ]
     },
     "metadata": {
      "needs_background": "light"
     },
     "output_type": "display_data"
    }
   ],
   "source": [
    "classes = ['background', 'bowel_bag', 'bladder', 'hip', 'rectum']\n",
    "x = np.array([counter[k] for k in sorted(counter.keys())])\n",
    "plt.bar(classes, x)"
   ]
  },
  {
   "cell_type": "code",
   "execution_count": 105,
   "metadata": {},
   "outputs": [
    {
     "data": {
      "text/plain": [
       "'[1,2,3,4]'"
      ]
     },
     "execution_count": 105,
     "metadata": {},
     "output_type": "execute_result"
    }
   ],
   "source": [
    "json.dumps([1,2,3,4], separators=(',', ':'))"
   ]
  },
  {
   "cell_type": "code",
   "execution_count": 102,
   "metadata": {},
   "outputs": [
    {
     "name": "stdout",
     "output_type": "stream",
     "text": [
      "0.52,0.85,1.09,1.28,1.26\n",
      "0.25,0.67,1.10,1.51,1.48\n",
      "0.05,0.36,0.98,1.84,1.77\n"
     ]
    },
    {
     "data": {
      "image/png": "[encoded data removed]",
      "text/plain": [
       "<Figure size 432x288 with 1 Axes>"
      ]
     },
     "metadata": {
      "needs_background": "light"
     },
     "output_type": "display_data"
    },
    {
     "data": {
      "image/png": "[encoded data removed]",
      "text/plain": [
       "<Figure size 432x288 with 1 Axes>"
      ]
     },
     "metadata": {
      "needs_background": "light"
     },
     "output_type": "display_data"
    },
    {
     "data": {
      "image/png": "[encoded data removed]",
      "text/plain": [
       "<Figure size 432x288 with 1 Axes>"
      ]
     },
     "metadata": {
      "needs_background": "light"
     },
     "output_type": "display_data"
    }
   ],
   "source": [
    "\n",
    "def generate_inverse_weights(x, beta):    \n",
    "    x_inv = 1/x\n",
    "    x_transformed = x_inv**beta/ (x_inv**beta).sum()    \n",
    "    return x_transformed\n",
    "    \n",
    "# beta = 0.125 # 0.5, 0.25, 0.125\n",
    "for beta in [0.125, 0.25, 0.5]:\n",
    "    # multiplied 5 to keep the total amount of loss the same as without weights to avoid having to\n",
    "    # correct for this in the learning rate for fair comparison\n",
    "    x_trans = generate_inverse_weights(x, beta) * 5 \n",
    "    plt.figure()\n",
    "    plt.bar(classes, x_trans)\n",
    "    weights = \",\".join([f'{x:.2f}' for x in x_trans])\n",
    "    plt.title(f'beta: {beta}, weights: {weights}')\n",
    "    print(\",\".join([f'{x:.2f}' for x in x_trans]))"
   ]
  },
  {
   "cell_type": "code",
   "execution_count": null,
   "metadata": {},
   "outputs": [],
   "source": []
  }
 ],
 "metadata": {
  "kernelspec": {
   "display_name": "Python 3",
   "language": "python",
   "name": "python3"
  },
  "language_info": {
   "codemirror_mode": {
    "name": "ipython",
    "version": 3
   },
   "file_extension": ".py",
   "mimetype": "text/x-python",
   "name": "python",
   "nbconvert_exporter": "python",
   "pygments_lexer": "ipython3",
   "version": "3.6.8"
  }
 },
 "nbformat": 4,
 "nbformat_minor": 2
}
