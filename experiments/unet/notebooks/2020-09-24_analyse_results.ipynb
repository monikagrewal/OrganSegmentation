{
 "cells": [
  {
   "cell_type": "code",
   "execution_count": 29,
   "metadata": {},
   "outputs": [],
   "source": [
    "import os"
   ]
  },
  {
   "cell_type": "code",
   "execution_count": 30,
   "metadata": {},
   "outputs": [],
   "source": [
    "os.makedirs('bla/bla/bla', exist_ok=True)"
   ]
  },
  {
   "cell_type": "code",
   "execution_count": 2,
   "metadata": {},
   "outputs": [],
   "source": [
    "from pathlib import Path\n",
    "import pandas as pd\n",
    "import matplotlib.pyplot as plt\n",
    "import seaborn as sns"
   ]
  },
  {
   "cell_type": "code",
   "execution_count": 3,
   "metadata": {},
   "outputs": [
    {
     "data": {
      "text/html": [
       "<div>\n",
       "<style scoped>\n",
       "    .dataframe tbody tr th:only-of-type {\n",
       "        vertical-align: middle;\n",
       "    }\n",
       "\n",
       "    .dataframe tbody tr th {\n",
       "        vertical-align: top;\n",
       "    }\n",
       "\n",
       "    .dataframe thead th {\n",
       "        text-align: right;\n",
       "    }\n",
       "</style>\n",
       "<table border=\"1\" class=\"dataframe\">\n",
       "  <thead>\n",
       "    <tr style=\"text-align: right;\">\n",
       "      <th></th>\n",
       "      <th>augmentation_brightness</th>\n",
       "      <th>augmentation_contrast</th>\n",
       "      <th>augmentation_rotate3d</th>\n",
       "      <th>nepochs</th>\n",
       "      <th>experiment</th>\n",
       "    </tr>\n",
       "  </thead>\n",
       "  <tbody>\n",
       "    <tr>\n",
       "      <th>0</th>\n",
       "      <td>1</td>\n",
       "      <td>1</td>\n",
       "      <td>1</td>\n",
       "      <td>150</td>\n",
       "      <td>0</td>\n",
       "    </tr>\n",
       "    <tr>\n",
       "      <th>1</th>\n",
       "      <td>1</td>\n",
       "      <td>1</td>\n",
       "      <td>2</td>\n",
       "      <td>150</td>\n",
       "      <td>1</td>\n",
       "    </tr>\n",
       "    <tr>\n",
       "      <th>2</th>\n",
       "      <td>1</td>\n",
       "      <td>1</td>\n",
       "      <td>3</td>\n",
       "      <td>150</td>\n",
       "      <td>2</td>\n",
       "    </tr>\n",
       "  </tbody>\n",
       "</table>\n",
       "</div>"
      ],
      "text/plain": [
       "   augmentation_brightness  augmentation_contrast  augmentation_rotate3d  \\\n",
       "0                        1                      1                      1   \n",
       "1                        1                      1                      2   \n",
       "2                        1                      1                      3   \n",
       "\n",
       "   nepochs  experiment  \n",
       "0      150           0  \n",
       "1      150           1  \n",
       "2      150           2  "
      ]
     },
     "execution_count": 3,
     "metadata": {},
     "output_type": "execute_result"
    }
   ],
   "source": [
    "import itertools\n",
    "\n",
    "\n",
    "# 19-09-2020\n",
    "# param_ranges = dict(\n",
    "#     accumulate_batches=[1,8,16],\n",
    "#     weight_decay=[0.01, 0.001, 0.0001],\n",
    "#     loss_function = [\n",
    "#         'cross_entropy',\n",
    "#         'soft_dice',\n",
    "#         ('focal_loss', ('gamma', 1)),\n",
    "#         ('focal_loss', ('gamma', 2)),\n",
    "#         ('focal_loss', ('gamma', 5)),       \n",
    "#         ('weighted_cross_entropy', ('class_weights', [0.52,0.85,1.09,1.28,1.26])),\n",
    "#         ('weighted_cross_entropy', ('class_weights', [0.25,0.67,1.10,1.51,1.48])),\n",
    "#         ('weighted_cross_entropy', ('class_weights', [0.05,0.36,0.98,1.84,1.77]))\n",
    "#     ]\n",
    "# )\n",
    "\n",
    "# 20-10-2020\n",
    "# param_ranges = dict(\n",
    "#     accumulate_batches=[1,8,16],\n",
    "#     # weight_decay=[0.01, 0.001, 0.0001],\n",
    "#     loss_function = [\n",
    "#         'cross_entropy',\n",
    "#         'soft_dice',\n",
    "#         ('focal_loss', ('gamma', 1)),\n",
    "#         ('focal_loss', ('gamma', 2)),\n",
    "#         ('focal_loss', ('gamma', 5)),       \n",
    "#         ('weighted_cross_entropy', ('class_weights', [0.52,0.85,1.09,1.28,1.26])),\n",
    "#         ('weighted_cross_entropy', ('class_weights', [0.25,0.67,1.10,1.51,1.48])),\n",
    "#         ('weighted_cross_entropy', ('class_weights', [0.05,0.36,0.98,1.84,1.77]))\n",
    "#     ],\n",
    "#     lr = [0.01, 0.001]\n",
    "# )\n",
    "\n",
    "# 12-11-2020 (augmentation)\n",
    "# param_ranges = dict(\n",
    "#     augmentation_brightness=[0,1],\n",
    "#     augmentation_contrast=[0,1],\n",
    "#     augmentation_rotate3d=[0,1,2,3]\n",
    "# )\n",
    "\n",
    "# 19-11-2020 (augmentation)\n",
    "param_ranges = dict(\n",
    "    augmentation_brightness=[1],\n",
    "    augmentation_contrast=[1],\n",
    "    augmentation_rotate3d=[1,2,3],\n",
    "    nepochs=[150]\n",
    ")\n",
    "\n",
    "experiments = []\n",
    "for i, res in enumerate(itertools.product(*param_ranges.values())):\n",
    "    param_dict = {}\n",
    "    for k, v in zip(param_ranges.keys(),res):\n",
    "        if isinstance(v, tuple):\n",
    "            param_dict[k] = v[0]\n",
    "            other_param_name, other_param_value = v[1]\n",
    "            param_dict[other_param_name] = other_param_value\n",
    "        else:\n",
    "            param_dict[k] = v\n",
    "    param_dict['experiment'] = i\n",
    "    experiments.append(param_dict)\n",
    "\n",
    "exp_params_df = pd.DataFrame(experiments)\n",
    "exp_params_df.head()"
   ]
  },
  {
   "cell_type": "code",
   "execution_count": 4,
   "metadata": {},
   "outputs": [],
   "source": [
    "# runs_path = Path('/export/scratch3/bvdp/segmentation/OAR_segmentation/experiments/unet/runs')\n",
    "# runs_path = Path('/export/scratch3/bvdp/segmentation/OAR_segmentation/experiments/unet/runs_augmentation/')\n",
    "runs_path = Path('/export/scratch3/bvdp/segmentation/OAR_segmentation/experiments/unet/runs_augmentation_v2/')\n",
    "# runs_path = Path('/export/scratch3/bvdp/segmentation/OAR_segmentation/experiments/unet/runs_19-09-2020/')"
   ]
  },
  {
   "cell_type": "code",
   "execution_count": 5,
   "metadata": {},
   "outputs": [],
   "source": [
    "result_files = runs_path.glob('**/*epoch_results.csv')"
   ]
  },
  {
   "cell_type": "code",
   "execution_count": 6,
   "metadata": {},
   "outputs": [],
   "source": [
    "all_dfs = []\n",
    "for result_file in result_files:\n",
    "    df = pd.read_csv(result_file)\n",
    "#     all_dfs.append(df.assign(results_path=result_file.relative_to(result_file)))\n",
    "    all_dfs.append(df.assign(results_path=result_file))"
   ]
  },
  {
   "cell_type": "code",
   "execution_count": 7,
   "metadata": {},
   "outputs": [
    {
     "data": {
      "text/html": [
       "<div>\n",
       "<style scoped>\n",
       "    .dataframe tbody tr th:only-of-type {\n",
       "        vertical-align: middle;\n",
       "    }\n",
       "\n",
       "    .dataframe tbody tr th {\n",
       "        vertical-align: top;\n",
       "    }\n",
       "\n",
       "    .dataframe thead th {\n",
       "        text-align: right;\n",
       "    }\n",
       "</style>\n",
       "<table border=\"1\" class=\"dataframe\">\n",
       "  <thead>\n",
       "    <tr style=\"text-align: right;\">\n",
       "      <th></th>\n",
       "      <th>dice_background</th>\n",
       "      <th>dice_bladder</th>\n",
       "      <th>dice_bowel_bag</th>\n",
       "      <th>dice_hip</th>\n",
       "      <th>dice_rectum</th>\n",
       "      <th>epoch</th>\n",
       "      <th>mean_dice</th>\n",
       "      <th>precision_background</th>\n",
       "      <th>precision_bladder</th>\n",
       "      <th>precision_bowel_bag</th>\n",
       "      <th>...</th>\n",
       "      <th>recall_hip</th>\n",
       "      <th>recall_rectum</th>\n",
       "      <th>train_loss</th>\n",
       "      <th>val_loss</th>\n",
       "      <th>results_path</th>\n",
       "      <th>experiment</th>\n",
       "      <th>augmentation_brightness</th>\n",
       "      <th>augmentation_contrast</th>\n",
       "      <th>augmentation_rotate3d</th>\n",
       "      <th>nepochs</th>\n",
       "    </tr>\n",
       "  </thead>\n",
       "  <tbody>\n",
       "    <tr>\n",
       "      <th>0</th>\n",
       "      <td>0.903704</td>\n",
       "      <td>0.083333</td>\n",
       "      <td>0.262963</td>\n",
       "      <td>0.000000</td>\n",
       "      <td>0.000000</td>\n",
       "      <td>0</td>\n",
       "      <td>0.086574</td>\n",
       "      <td>1.000000</td>\n",
       "      <td>0.048519</td>\n",
       "      <td>0.153333</td>\n",
       "      <td>...</td>\n",
       "      <td>0.000000</td>\n",
       "      <td>0.000000</td>\n",
       "      <td>0.809172</td>\n",
       "      <td>0.773067</td>\n",
       "      <td>/export/scratch3/bvdp/segmentation/OAR_segment...</td>\n",
       "      <td>2</td>\n",
       "      <td>1</td>\n",
       "      <td>1</td>\n",
       "      <td>3</td>\n",
       "      <td>150</td>\n",
       "    </tr>\n",
       "    <tr>\n",
       "      <th>1</th>\n",
       "      <td>0.940370</td>\n",
       "      <td>0.098519</td>\n",
       "      <td>0.227037</td>\n",
       "      <td>0.161481</td>\n",
       "      <td>0.003333</td>\n",
       "      <td>1</td>\n",
       "      <td>0.122593</td>\n",
       "      <td>1.000000</td>\n",
       "      <td>0.054074</td>\n",
       "      <td>0.145926</td>\n",
       "      <td>...</td>\n",
       "      <td>0.627037</td>\n",
       "      <td>0.011481</td>\n",
       "      <td>0.741263</td>\n",
       "      <td>0.738742</td>\n",
       "      <td>/export/scratch3/bvdp/segmentation/OAR_segment...</td>\n",
       "      <td>2</td>\n",
       "      <td>1</td>\n",
       "      <td>1</td>\n",
       "      <td>3</td>\n",
       "      <td>150</td>\n",
       "    </tr>\n",
       "    <tr>\n",
       "      <th>2</th>\n",
       "      <td>0.990000</td>\n",
       "      <td>0.498148</td>\n",
       "      <td>0.198519</td>\n",
       "      <td>0.218889</td>\n",
       "      <td>0.000741</td>\n",
       "      <td>2</td>\n",
       "      <td>0.229074</td>\n",
       "      <td>0.982593</td>\n",
       "      <td>0.605556</td>\n",
       "      <td>0.591481</td>\n",
       "      <td>...</td>\n",
       "      <td>0.469630</td>\n",
       "      <td>0.000000</td>\n",
       "      <td>0.687875</td>\n",
       "      <td>0.727066</td>\n",
       "      <td>/export/scratch3/bvdp/segmentation/OAR_segment...</td>\n",
       "      <td>2</td>\n",
       "      <td>1</td>\n",
       "      <td>1</td>\n",
       "      <td>3</td>\n",
       "      <td>150</td>\n",
       "    </tr>\n",
       "    <tr>\n",
       "      <th>3</th>\n",
       "      <td>0.961852</td>\n",
       "      <td>0.340000</td>\n",
       "      <td>0.359630</td>\n",
       "      <td>0.084074</td>\n",
       "      <td>0.051111</td>\n",
       "      <td>3</td>\n",
       "      <td>0.208704</td>\n",
       "      <td>1.000000</td>\n",
       "      <td>0.255556</td>\n",
       "      <td>0.227778</td>\n",
       "      <td>...</td>\n",
       "      <td>0.214444</td>\n",
       "      <td>0.158148</td>\n",
       "      <td>0.681319</td>\n",
       "      <td>0.695053</td>\n",
       "      <td>/export/scratch3/bvdp/segmentation/OAR_segment...</td>\n",
       "      <td>2</td>\n",
       "      <td>1</td>\n",
       "      <td>1</td>\n",
       "      <td>3</td>\n",
       "      <td>150</td>\n",
       "    </tr>\n",
       "    <tr>\n",
       "      <th>4</th>\n",
       "      <td>0.969630</td>\n",
       "      <td>0.312963</td>\n",
       "      <td>0.495185</td>\n",
       "      <td>0.000000</td>\n",
       "      <td>0.017407</td>\n",
       "      <td>4</td>\n",
       "      <td>0.206389</td>\n",
       "      <td>0.998519</td>\n",
       "      <td>0.694444</td>\n",
       "      <td>0.356667</td>\n",
       "      <td>...</td>\n",
       "      <td>0.000000</td>\n",
       "      <td>0.281481</td>\n",
       "      <td>0.655224</td>\n",
       "      <td>0.696312</td>\n",
       "      <td>/export/scratch3/bvdp/segmentation/OAR_segment...</td>\n",
       "      <td>2</td>\n",
       "      <td>1</td>\n",
       "      <td>1</td>\n",
       "      <td>3</td>\n",
       "      <td>150</td>\n",
       "    </tr>\n",
       "  </tbody>\n",
       "</table>\n",
       "<p>5 rows × 25 columns</p>\n",
       "</div>"
      ],
      "text/plain": [
       "   dice_background  dice_bladder  dice_bowel_bag  dice_hip  dice_rectum  \\\n",
       "0         0.903704      0.083333        0.262963  0.000000     0.000000   \n",
       "1         0.940370      0.098519        0.227037  0.161481     0.003333   \n",
       "2         0.990000      0.498148        0.198519  0.218889     0.000741   \n",
       "3         0.961852      0.340000        0.359630  0.084074     0.051111   \n",
       "4         0.969630      0.312963        0.495185  0.000000     0.017407   \n",
       "\n",
       "   epoch  mean_dice  precision_background  precision_bladder  \\\n",
       "0      0   0.086574              1.000000           0.048519   \n",
       "1      1   0.122593              1.000000           0.054074   \n",
       "2      2   0.229074              0.982593           0.605556   \n",
       "3      3   0.208704              1.000000           0.255556   \n",
       "4      4   0.206389              0.998519           0.694444   \n",
       "\n",
       "   precision_bowel_bag  ...  recall_hip  recall_rectum  train_loss  val_loss  \\\n",
       "0             0.153333  ...    0.000000       0.000000    0.809172  0.773067   \n",
       "1             0.145926  ...    0.627037       0.011481    0.741263  0.738742   \n",
       "2             0.591481  ...    0.469630       0.000000    0.687875  0.727066   \n",
       "3             0.227778  ...    0.214444       0.158148    0.681319  0.695053   \n",
       "4             0.356667  ...    0.000000       0.281481    0.655224  0.696312   \n",
       "\n",
       "                                        results_path  experiment  \\\n",
       "0  /export/scratch3/bvdp/segmentation/OAR_segment...           2   \n",
       "1  /export/scratch3/bvdp/segmentation/OAR_segment...           2   \n",
       "2  /export/scratch3/bvdp/segmentation/OAR_segment...           2   \n",
       "3  /export/scratch3/bvdp/segmentation/OAR_segment...           2   \n",
       "4  /export/scratch3/bvdp/segmentation/OAR_segment...           2   \n",
       "\n",
       "   augmentation_brightness  augmentation_contrast  augmentation_rotate3d  \\\n",
       "0                        1                      1                      3   \n",
       "1                        1                      1                      3   \n",
       "2                        1                      1                      3   \n",
       "3                        1                      1                      3   \n",
       "4                        1                      1                      3   \n",
       "\n",
       "  nepochs  \n",
       "0     150  \n",
       "1     150  \n",
       "2     150  \n",
       "3     150  \n",
       "4     150  \n",
       "\n",
       "[5 rows x 25 columns]"
      ]
     },
     "execution_count": 7,
     "metadata": {},
     "output_type": "execute_result"
    }
   ],
   "source": [
    "df = pd.concat(all_dfs)\n",
    "df = df.assign(\n",
    "    experiment=df.results_path.map(lambda x: x.relative_to(runs_path).parts[0].split('_')[1]).astype(int)\n",
    ").merge(exp_params_df, on='experiment')\n",
    "df.head()"
   ]
  },
  {
   "cell_type": "code",
   "execution_count": 20,
   "metadata": {
    "scrolled": false
   },
   "outputs": [
    {
     "data": {
      "image/png": "[encoded data removed]",
      "text/plain": [
       "<Figure size 576x720 with 3 Axes>"
      ]
     },
     "metadata": {
      "needs_background": "light"
     },
     "output_type": "display_data"
    }
   ],
   "source": [
    "df.set_index(['experiment', 'epoch']).mean_dice.unstack('experiment').plot(figsize=(8,10), subplots=True, sharey=True, title='mean dice per experiment');"
   ]
  },
  {
   "cell_type": "code",
   "execution_count": 18,
   "metadata": {},
   "outputs": [
    {
     "data": {
      "image/png": "[encoded data removed]",
      "text/plain": [
       "<Figure size 1080x360 with 1 Axes>"
      ]
     },
     "metadata": {
      "needs_background": "light"
     },
     "output_type": "display_data"
    }
   ],
   "source": [
    "df.set_index(['experiment', 'epoch']).mean_dice.unstack('experiment').plot(figsize=(15,5));"
   ]
  },
  {
   "cell_type": "code",
   "execution_count": 8,
   "metadata": {},
   "outputs": [
    {
     "data": {
      "text/html": [
       "<div>\n",
       "<style scoped>\n",
       "    .dataframe tbody tr th:only-of-type {\n",
       "        vertical-align: middle;\n",
       "    }\n",
       "\n",
       "    .dataframe tbody tr th {\n",
       "        vertical-align: top;\n",
       "    }\n",
       "\n",
       "    .dataframe thead th {\n",
       "        text-align: right;\n",
       "    }\n",
       "</style>\n",
       "<table border=\"1\" class=\"dataframe\">\n",
       "  <thead>\n",
       "    <tr style=\"text-align: right;\">\n",
       "      <th></th>\n",
       "      <th>dice_background</th>\n",
       "      <th>dice_bladder</th>\n",
       "      <th>dice_bowel_bag</th>\n",
       "      <th>dice_hip</th>\n",
       "      <th>dice_rectum</th>\n",
       "      <th>epoch</th>\n",
       "      <th>mean_dice</th>\n",
       "      <th>precision_background</th>\n",
       "      <th>precision_bladder</th>\n",
       "      <th>precision_bowel_bag</th>\n",
       "      <th>...</th>\n",
       "      <th>recall_hip</th>\n",
       "      <th>recall_rectum</th>\n",
       "      <th>train_loss</th>\n",
       "      <th>val_loss</th>\n",
       "      <th>results_path</th>\n",
       "      <th>experiment</th>\n",
       "      <th>augmentation_brightness</th>\n",
       "      <th>augmentation_contrast</th>\n",
       "      <th>augmentation_rotate3d</th>\n",
       "      <th>nepochs</th>\n",
       "    </tr>\n",
       "  </thead>\n",
       "  <tbody>\n",
       "    <tr>\n",
       "      <th>134</th>\n",
       "      <td>0.998519</td>\n",
       "      <td>0.870000</td>\n",
       "      <td>0.837037</td>\n",
       "      <td>0.884444</td>\n",
       "      <td>0.780370</td>\n",
       "      <td>134</td>\n",
       "      <td>0.842963</td>\n",
       "      <td>0.999630</td>\n",
       "      <td>0.897037</td>\n",
       "      <td>0.831481</td>\n",
       "      <td>...</td>\n",
       "      <td>0.968889</td>\n",
       "      <td>0.829630</td>\n",
       "      <td>0.463864</td>\n",
       "      <td>0.438908</td>\n",
       "      <td>/export/scratch3/bvdp/segmentation/OAR_segment...</td>\n",
       "      <td>2</td>\n",
       "      <td>1</td>\n",
       "      <td>1</td>\n",
       "      <td>3</td>\n",
       "      <td>150</td>\n",
       "    </tr>\n",
       "    <tr>\n",
       "      <th>413</th>\n",
       "      <td>0.999630</td>\n",
       "      <td>0.858519</td>\n",
       "      <td>0.805556</td>\n",
       "      <td>0.901111</td>\n",
       "      <td>0.752963</td>\n",
       "      <td>113</td>\n",
       "      <td>0.829537</td>\n",
       "      <td>0.997037</td>\n",
       "      <td>0.878519</td>\n",
       "      <td>0.852963</td>\n",
       "      <td>...</td>\n",
       "      <td>0.937037</td>\n",
       "      <td>0.893704</td>\n",
       "      <td>0.459718</td>\n",
       "      <td>0.450382</td>\n",
       "      <td>/export/scratch3/bvdp/segmentation/OAR_segment...</td>\n",
       "      <td>1</td>\n",
       "      <td>1</td>\n",
       "      <td>1</td>\n",
       "      <td>2</td>\n",
       "      <td>150</td>\n",
       "    </tr>\n",
       "    <tr>\n",
       "      <th>291</th>\n",
       "      <td>0.998889</td>\n",
       "      <td>0.861111</td>\n",
       "      <td>0.824444</td>\n",
       "      <td>0.822593</td>\n",
       "      <td>0.765185</td>\n",
       "      <td>141</td>\n",
       "      <td>0.818333</td>\n",
       "      <td>0.998889</td>\n",
       "      <td>0.849259</td>\n",
       "      <td>0.816667</td>\n",
       "      <td>...</td>\n",
       "      <td>0.737778</td>\n",
       "      <td>0.807778</td>\n",
       "      <td>0.453984</td>\n",
       "      <td>0.459295</td>\n",
       "      <td>/export/scratch3/bvdp/segmentation/OAR_segment...</td>\n",
       "      <td>0</td>\n",
       "      <td>1</td>\n",
       "      <td>1</td>\n",
       "      <td>1</td>\n",
       "      <td>150</td>\n",
       "    </tr>\n",
       "  </tbody>\n",
       "</table>\n",
       "<p>3 rows × 25 columns</p>\n",
       "</div>"
      ],
      "text/plain": [
       "     dice_background  dice_bladder  dice_bowel_bag  dice_hip  dice_rectum  \\\n",
       "134         0.998519      0.870000        0.837037  0.884444     0.780370   \n",
       "413         0.999630      0.858519        0.805556  0.901111     0.752963   \n",
       "291         0.998889      0.861111        0.824444  0.822593     0.765185   \n",
       "\n",
       "     epoch  mean_dice  precision_background  precision_bladder  \\\n",
       "134    134   0.842963              0.999630           0.897037   \n",
       "413    113   0.829537              0.997037           0.878519   \n",
       "291    141   0.818333              0.998889           0.849259   \n",
       "\n",
       "     precision_bowel_bag  ...  recall_hip  recall_rectum  train_loss  \\\n",
       "134             0.831481  ...    0.968889       0.829630    0.463864   \n",
       "413             0.852963  ...    0.937037       0.893704    0.459718   \n",
       "291             0.816667  ...    0.737778       0.807778    0.453984   \n",
       "\n",
       "     val_loss                                       results_path  experiment  \\\n",
       "134  0.438908  /export/scratch3/bvdp/segmentation/OAR_segment...           2   \n",
       "413  0.450382  /export/scratch3/bvdp/segmentation/OAR_segment...           1   \n",
       "291  0.459295  /export/scratch3/bvdp/segmentation/OAR_segment...           0   \n",
       "\n",
       "     augmentation_brightness  augmentation_contrast  augmentation_rotate3d  \\\n",
       "134                        1                      1                      3   \n",
       "413                        1                      1                      2   \n",
       "291                        1                      1                      1   \n",
       "\n",
       "    nepochs  \n",
       "134     150  \n",
       "413     150  \n",
       "291     150  \n",
       "\n",
       "[3 rows x 25 columns]"
      ]
     },
     "execution_count": 8,
     "metadata": {},
     "output_type": "execute_result"
    }
   ],
   "source": [
    "df_best_epoch = df.sort_values('mean_dice', ascending=False).drop_duplicates('experiment', keep='first')\n",
    "df_best_epoch.head()"
   ]
  },
  {
   "cell_type": "code",
   "execution_count": 26,
   "metadata": {},
   "outputs": [
    {
     "data": {
      "text/plain": [
       "0.8500925925"
      ]
     },
     "execution_count": 26,
     "metadata": {},
     "output_type": "execute_result"
    }
   ],
   "source": [
    "import numpy as np\n",
    "np.mean([0.83851852,0.87407407, 0.90592593, 0.78185185])\n",
    "# np.mean([0.80851852, 0.8637037,  0.90333333, 0.75296296])"
   ]
  },
  {
   "cell_type": "code",
   "execution_count": 21,
   "metadata": {},
   "outputs": [
    {
     "data": {
      "text/html": [
       "<div>\n",
       "<style scoped>\n",
       "    .dataframe tbody tr th:only-of-type {\n",
       "        vertical-align: middle;\n",
       "    }\n",
       "\n",
       "    .dataframe tbody tr th {\n",
       "        vertical-align: top;\n",
       "    }\n",
       "\n",
       "    .dataframe thead th {\n",
       "        text-align: right;\n",
       "    }\n",
       "</style>\n",
       "<table border=\"1\" class=\"dataframe\">\n",
       "  <thead>\n",
       "    <tr style=\"text-align: right;\">\n",
       "      <th></th>\n",
       "      <th>experiment</th>\n",
       "      <th>epoch</th>\n",
       "      <th>augmentation_brightness</th>\n",
       "      <th>augmentation_contrast</th>\n",
       "      <th>augmentation_rotate3d</th>\n",
       "      <th>mean_dice</th>\n",
       "      <th>dice_bladder</th>\n",
       "      <th>dice_bowel_bag</th>\n",
       "      <th>dice_hip</th>\n",
       "      <th>dice_rectum</th>\n",
       "    </tr>\n",
       "  </thead>\n",
       "  <tbody>\n",
       "    <tr>\n",
       "      <th>134</th>\n",
       "      <td>2</td>\n",
       "      <td>134</td>\n",
       "      <td>1</td>\n",
       "      <td>1</td>\n",
       "      <td>3</td>\n",
       "      <td>0.842963</td>\n",
       "      <td>0.870000</td>\n",
       "      <td>0.837037</td>\n",
       "      <td>0.884444</td>\n",
       "      <td>0.780370</td>\n",
       "    </tr>\n",
       "    <tr>\n",
       "      <th>413</th>\n",
       "      <td>1</td>\n",
       "      <td>113</td>\n",
       "      <td>1</td>\n",
       "      <td>1</td>\n",
       "      <td>2</td>\n",
       "      <td>0.829537</td>\n",
       "      <td>0.858519</td>\n",
       "      <td>0.805556</td>\n",
       "      <td>0.901111</td>\n",
       "      <td>0.752963</td>\n",
       "    </tr>\n",
       "    <tr>\n",
       "      <th>291</th>\n",
       "      <td>0</td>\n",
       "      <td>141</td>\n",
       "      <td>1</td>\n",
       "      <td>1</td>\n",
       "      <td>1</td>\n",
       "      <td>0.818333</td>\n",
       "      <td>0.861111</td>\n",
       "      <td>0.824444</td>\n",
       "      <td>0.822593</td>\n",
       "      <td>0.765185</td>\n",
       "    </tr>\n",
       "  </tbody>\n",
       "</table>\n",
       "</div>"
      ],
      "text/plain": [
       "     experiment  epoch  augmentation_brightness  augmentation_contrast  \\\n",
       "134           2    134                        1                      1   \n",
       "413           1    113                        1                      1   \n",
       "291           0    141                        1                      1   \n",
       "\n",
       "     augmentation_rotate3d  mean_dice  dice_bladder  dice_bowel_bag  dice_hip  \\\n",
       "134                      3   0.842963      0.870000        0.837037  0.884444   \n",
       "413                      2   0.829537      0.858519        0.805556  0.901111   \n",
       "291                      1   0.818333      0.861111        0.824444  0.822593   \n",
       "\n",
       "     dice_rectum  \n",
       "134     0.780370  \n",
       "413     0.752963  \n",
       "291     0.765185  "
      ]
     },
     "execution_count": 21,
     "metadata": {},
     "output_type": "execute_result"
    }
   ],
   "source": [
    "df_best_epoch = df.sort_values('mean_dice', ascending=False).drop_duplicates('experiment', keep='first')\n",
    "df_best_epoch[['experiment', 'epoch', 'augmentation_brightness', 'augmentation_contrast', 'augmentation_rotate3d', 'mean_dice', 'dice_bladder', 'dice_bowel_bag', 'dice_hip', 'dice_rectum']]"
   ]
  },
  {
   "cell_type": "code",
   "execution_count": 247,
   "metadata": {},
   "outputs": [],
   "source": [
    "# df_best_epoch.groupby(['loss_function', 'lr', 'accumulate_batches']).mean_dice.max().unstack('loss_function').plot.bar(figsize=(12,7))\n",
    "# plt.legend(loc='lower right')\n",
    "# plt.grid()"
   ]
  },
  {
   "cell_type": "code",
   "execution_count": 395,
   "metadata": {},
   "outputs": [
    {
     "data": {
      "text/html": [
       "<div>\n",
       "<style scoped>\n",
       "    .dataframe tbody tr th:only-of-type {\n",
       "        vertical-align: middle;\n",
       "    }\n",
       "\n",
       "    .dataframe tbody tr th {\n",
       "        vertical-align: top;\n",
       "    }\n",
       "\n",
       "    .dataframe thead th {\n",
       "        text-align: right;\n",
       "    }\n",
       "</style>\n",
       "<table border=\"1\" class=\"dataframe\">\n",
       "  <thead>\n",
       "    <tr style=\"text-align: right;\">\n",
       "      <th></th>\n",
       "      <th>mean_dice</th>\n",
       "      <th>dice_bowel_bag</th>\n",
       "      <th>dice_bladder</th>\n",
       "      <th>dice_hip</th>\n",
       "      <th>dice_rectum</th>\n",
       "      <th>augmentation_brightness</th>\n",
       "      <th>augmentation_contrast</th>\n",
       "      <th>augmentation_rotate3d</th>\n",
       "    </tr>\n",
       "    <tr>\n",
       "      <th>experiment</th>\n",
       "      <th></th>\n",
       "      <th></th>\n",
       "      <th></th>\n",
       "      <th></th>\n",
       "      <th></th>\n",
       "      <th></th>\n",
       "      <th></th>\n",
       "      <th></th>\n",
       "    </tr>\n",
       "  </thead>\n",
       "  <tbody>\n",
       "    <tr>\n",
       "      <th>2</th>\n",
       "      <td>0.842963</td>\n",
       "      <td>0.837037</td>\n",
       "      <td>0.870000</td>\n",
       "      <td>0.884444</td>\n",
       "      <td>0.780370</td>\n",
       "      <td>1</td>\n",
       "      <td>1</td>\n",
       "      <td>3</td>\n",
       "    </tr>\n",
       "    <tr>\n",
       "      <th>1</th>\n",
       "      <td>0.829537</td>\n",
       "      <td>0.805556</td>\n",
       "      <td>0.858519</td>\n",
       "      <td>0.901111</td>\n",
       "      <td>0.752963</td>\n",
       "      <td>1</td>\n",
       "      <td>1</td>\n",
       "      <td>2</td>\n",
       "    </tr>\n",
       "    <tr>\n",
       "      <th>0</th>\n",
       "      <td>0.818333</td>\n",
       "      <td>0.824444</td>\n",
       "      <td>0.861111</td>\n",
       "      <td>0.822593</td>\n",
       "      <td>0.765185</td>\n",
       "      <td>1</td>\n",
       "      <td>1</td>\n",
       "      <td>1</td>\n",
       "    </tr>\n",
       "  </tbody>\n",
       "</table>\n",
       "</div>"
      ],
      "text/plain": [
       "            mean_dice  dice_bowel_bag  dice_bladder  dice_hip  dice_rectum  \\\n",
       "experiment                                                                   \n",
       "2            0.842963        0.837037      0.870000  0.884444     0.780370   \n",
       "1            0.829537        0.805556      0.858519  0.901111     0.752963   \n",
       "0            0.818333        0.824444      0.861111  0.822593     0.765185   \n",
       "\n",
       "            augmentation_brightness  augmentation_contrast  \\\n",
       "experiment                                                   \n",
       "2                                 1                      1   \n",
       "1                                 1                      1   \n",
       "0                                 1                      1   \n",
       "\n",
       "            augmentation_rotate3d  \n",
       "experiment                         \n",
       "2                               3  \n",
       "1                               2  \n",
       "0                               1  "
      ]
     },
     "execution_count": 395,
     "metadata": {},
     "output_type": "execute_result"
    }
   ],
   "source": [
    "df_best_epoch.set_index('experiment')[['mean_dice', 'dice_bowel_bag', 'dice_bladder', 'dice_hip', 'dice_rectum', 'augmentation_brightness', 'augmentation_contrast', 'augmentation_rotate3d']] \\\n",
    "    .sort_values('mean_dice', ascending=False)"
   ]
  },
  {
   "cell_type": "code",
   "execution_count": 288,
   "metadata": {
    "scrolled": true
   },
   "outputs": [
    {
     "ename": "KeyError",
     "evalue": "\"['loss_function', 'class_weights', 'accumulate_batches', 'lr'] not in index\"",
     "output_type": "error",
     "traceback": [
      "\u001b[0;31m---------------------------------------------------------------------------\u001b[0m",
      "\u001b[0;31mKeyError\u001b[0m                                  Traceback (most recent call last)",
      "\u001b[0;32m<ipython-input-288-e02267255640>\u001b[0m in \u001b[0;36m<module>\u001b[0;34m\u001b[0m\n\u001b[0;32m----> 1\u001b[0;31m \u001b[0mdf_best_epoch\u001b[0m\u001b[0;34m.\u001b[0m\u001b[0mset_index\u001b[0m\u001b[0;34m(\u001b[0m\u001b[0;34m'experiment'\u001b[0m\u001b[0;34m)\u001b[0m\u001b[0;34m[\u001b[0m\u001b[0;34m[\u001b[0m\u001b[0;34m'mean_dice'\u001b[0m\u001b[0;34m,\u001b[0m \u001b[0;34m'dice_bowel_bag'\u001b[0m\u001b[0;34m,\u001b[0m \u001b[0;34m'dice_bladder'\u001b[0m\u001b[0;34m,\u001b[0m \u001b[0;34m'dice_hip'\u001b[0m\u001b[0;34m,\u001b[0m \u001b[0;34m'dice_rectum'\u001b[0m\u001b[0;34m,\u001b[0m \u001b[0;34m'accumulate_batches'\u001b[0m\u001b[0;34m,\u001b[0m \u001b[0;34m'lr'\u001b[0m\u001b[0;34m,\u001b[0m \u001b[0;34m'loss_function'\u001b[0m\u001b[0;34m,\u001b[0m \u001b[0;34m'class_weights'\u001b[0m\u001b[0;34m]\u001b[0m\u001b[0;34m]\u001b[0m\u001b[0;31m#.to_csv('best_epoch_results_05-11-2020.csv')\u001b[0m\u001b[0;34m\u001b[0m\u001b[0;34m\u001b[0m\u001b[0m\n\u001b[0m",
      "\u001b[0;32m/export/scratch3/bvdp/segmentation/env/lib64/python3.6/site-packages/pandas/core/frame.py\u001b[0m in \u001b[0;36m__getitem__\u001b[0;34m(self, key)\u001b[0m\n\u001b[1;32m   2922\u001b[0m                 \u001b[0mkey\u001b[0m \u001b[0;34m=\u001b[0m \u001b[0mlist\u001b[0m\u001b[0;34m(\u001b[0m\u001b[0mkey\u001b[0m\u001b[0;34m)\u001b[0m\u001b[0;34m\u001b[0m\u001b[0;34m\u001b[0m\u001b[0m\n\u001b[1;32m   2923\u001b[0m             indexer = self.loc._convert_to_indexer(key, axis=1,\n\u001b[0;32m-> 2924\u001b[0;31m                                                    raise_missing=True)\n\u001b[0m\u001b[1;32m   2925\u001b[0m \u001b[0;34m\u001b[0m\u001b[0m\n\u001b[1;32m   2926\u001b[0m         \u001b[0;31m# take() does not accept boolean indexers\u001b[0m\u001b[0;34m\u001b[0m\u001b[0;34m\u001b[0m\u001b[0;34m\u001b[0m\u001b[0m\n",
      "\u001b[0;32m/export/scratch3/bvdp/segmentation/env/lib64/python3.6/site-packages/pandas/core/indexing.py\u001b[0m in \u001b[0;36m_convert_to_indexer\u001b[0;34m(self, obj, axis, is_setter, raise_missing)\u001b[0m\n\u001b[1;32m   1352\u001b[0m                 kwargs = {'raise_missing': True if is_setter else\n\u001b[1;32m   1353\u001b[0m                           raise_missing}\n\u001b[0;32m-> 1354\u001b[0;31m                 \u001b[0;32mreturn\u001b[0m \u001b[0mself\u001b[0m\u001b[0;34m.\u001b[0m\u001b[0m_get_listlike_indexer\u001b[0m\u001b[0;34m(\u001b[0m\u001b[0mobj\u001b[0m\u001b[0;34m,\u001b[0m \u001b[0maxis\u001b[0m\u001b[0;34m,\u001b[0m \u001b[0;34m**\u001b[0m\u001b[0mkwargs\u001b[0m\u001b[0;34m)\u001b[0m\u001b[0;34m[\u001b[0m\u001b[0;36m1\u001b[0m\u001b[0;34m]\u001b[0m\u001b[0;34m\u001b[0m\u001b[0;34m\u001b[0m\u001b[0m\n\u001b[0m\u001b[1;32m   1355\u001b[0m         \u001b[0;32melse\u001b[0m\u001b[0;34m:\u001b[0m\u001b[0;34m\u001b[0m\u001b[0;34m\u001b[0m\u001b[0m\n\u001b[1;32m   1356\u001b[0m             \u001b[0;32mtry\u001b[0m\u001b[0;34m:\u001b[0m\u001b[0;34m\u001b[0m\u001b[0;34m\u001b[0m\u001b[0m\n",
      "\u001b[0;32m/export/scratch3/bvdp/segmentation/env/lib64/python3.6/site-packages/pandas/core/indexing.py\u001b[0m in \u001b[0;36m_get_listlike_indexer\u001b[0;34m(self, key, axis, raise_missing)\u001b[0m\n\u001b[1;32m   1159\u001b[0m         self._validate_read_indexer(keyarr, indexer,\n\u001b[1;32m   1160\u001b[0m                                     \u001b[0mo\u001b[0m\u001b[0;34m.\u001b[0m\u001b[0m_get_axis_number\u001b[0m\u001b[0;34m(\u001b[0m\u001b[0maxis\u001b[0m\u001b[0;34m)\u001b[0m\u001b[0;34m,\u001b[0m\u001b[0;34m\u001b[0m\u001b[0;34m\u001b[0m\u001b[0m\n\u001b[0;32m-> 1161\u001b[0;31m                                     raise_missing=raise_missing)\n\u001b[0m\u001b[1;32m   1162\u001b[0m         \u001b[0;32mreturn\u001b[0m \u001b[0mkeyarr\u001b[0m\u001b[0;34m,\u001b[0m \u001b[0mindexer\u001b[0m\u001b[0;34m\u001b[0m\u001b[0;34m\u001b[0m\u001b[0m\n\u001b[1;32m   1163\u001b[0m \u001b[0;34m\u001b[0m\u001b[0m\n",
      "\u001b[0;32m/export/scratch3/bvdp/segmentation/env/lib64/python3.6/site-packages/pandas/core/indexing.py\u001b[0m in \u001b[0;36m_validate_read_indexer\u001b[0;34m(self, key, indexer, axis, raise_missing)\u001b[0m\n\u001b[1;32m   1250\u001b[0m             \u001b[0;32mif\u001b[0m \u001b[0;32mnot\u001b[0m\u001b[0;34m(\u001b[0m\u001b[0mself\u001b[0m\u001b[0;34m.\u001b[0m\u001b[0mname\u001b[0m \u001b[0;34m==\u001b[0m \u001b[0;34m'loc'\u001b[0m \u001b[0;32mand\u001b[0m \u001b[0;32mnot\u001b[0m \u001b[0mraise_missing\u001b[0m\u001b[0;34m)\u001b[0m\u001b[0;34m:\u001b[0m\u001b[0;34m\u001b[0m\u001b[0;34m\u001b[0m\u001b[0m\n\u001b[1;32m   1251\u001b[0m                 \u001b[0mnot_found\u001b[0m \u001b[0;34m=\u001b[0m \u001b[0mlist\u001b[0m\u001b[0;34m(\u001b[0m\u001b[0mset\u001b[0m\u001b[0;34m(\u001b[0m\u001b[0mkey\u001b[0m\u001b[0;34m)\u001b[0m \u001b[0;34m-\u001b[0m \u001b[0mset\u001b[0m\u001b[0;34m(\u001b[0m\u001b[0max\u001b[0m\u001b[0;34m)\u001b[0m\u001b[0;34m)\u001b[0m\u001b[0;34m\u001b[0m\u001b[0;34m\u001b[0m\u001b[0m\n\u001b[0;32m-> 1252\u001b[0;31m                 \u001b[0;32mraise\u001b[0m \u001b[0mKeyError\u001b[0m\u001b[0;34m(\u001b[0m\u001b[0;34m\"{} not in index\"\u001b[0m\u001b[0;34m.\u001b[0m\u001b[0mformat\u001b[0m\u001b[0;34m(\u001b[0m\u001b[0mnot_found\u001b[0m\u001b[0;34m)\u001b[0m\u001b[0;34m)\u001b[0m\u001b[0;34m\u001b[0m\u001b[0;34m\u001b[0m\u001b[0m\n\u001b[0m\u001b[1;32m   1253\u001b[0m \u001b[0;34m\u001b[0m\u001b[0m\n\u001b[1;32m   1254\u001b[0m             \u001b[0;31m# we skip the warning on Categorical/Interval\u001b[0m\u001b[0;34m\u001b[0m\u001b[0;34m\u001b[0m\u001b[0;34m\u001b[0m\u001b[0m\n",
      "\u001b[0;31mKeyError\u001b[0m: \"['loss_function', 'class_weights', 'accumulate_batches', 'lr'] not in index\""
     ]
    }
   ],
   "source": [
    "df_best_epoch.set_index('experiment')[['mean_dice', 'dice_bowel_bag', 'dice_bladder', 'dice_hip', 'dice_rectum', 'accumulate_batches', 'lr', 'loss_function', 'class_weights']]#.to_csv('best_epoch_results_05-11-2020.csv')"
   ]
  },
  {
   "cell_type": "code",
   "execution_count": 185,
   "metadata": {},
   "outputs": [],
   "source": [
    "# df_best_epoch"
   ]
  },
  {
   "cell_type": "code",
   "execution_count": 248,
   "metadata": {},
   "outputs": [],
   "source": [
    "# df_best_epoch[['mean_dice', 'accumulate_batches', 'lr', 'loss_function', 'class_weights','gamma', 'experiment']]"
   ]
  },
  {
   "cell_type": "code",
   "execution_count": 135,
   "metadata": {},
   "outputs": [],
   "source": [
    "# df_best_epoch[df_best_epoch.accumulate_batches == 16].mean_dice.describe()"
   ]
  },
  {
   "cell_type": "code",
   "execution_count": 136,
   "metadata": {},
   "outputs": [],
   "source": [
    "# df_best_epoch[df_best_epoch.accumulate_batches == 8].mean_dice.describe()"
   ]
  },
  {
   "cell_type": "code",
   "execution_count": 137,
   "metadata": {},
   "outputs": [],
   "source": [
    "# df_best_epoch[df_best_epoch.accumulate_batches == 1].mean_dice.describe()"
   ]
  },
  {
   "cell_type": "code",
   "execution_count": 37,
   "metadata": {},
   "outputs": [],
   "source": [
    "# df_best_epoch.to_csv('results/best_epoch_results.csv', index=False)"
   ]
  },
  {
   "cell_type": "code",
   "execution_count": 249,
   "metadata": {},
   "outputs": [
    {
     "data": {
      "text/html": [
       "<div>\n",
       "<style scoped>\n",
       "    .dataframe tbody tr th:only-of-type {\n",
       "        vertical-align: middle;\n",
       "    }\n",
       "\n",
       "    .dataframe tbody tr th {\n",
       "        vertical-align: top;\n",
       "    }\n",
       "\n",
       "    .dataframe thead th {\n",
       "        text-align: right;\n",
       "    }\n",
       "</style>\n",
       "<table border=\"1\" class=\"dataframe\">\n",
       "  <thead>\n",
       "    <tr style=\"text-align: right;\">\n",
       "      <th>mean_dice</th>\n",
       "      <th>count</th>\n",
       "      <th>mean</th>\n",
       "      <th>std</th>\n",
       "      <th>min</th>\n",
       "      <th>25%</th>\n",
       "      <th>50%</th>\n",
       "      <th>75%</th>\n",
       "      <th>max</th>\n",
       "    </tr>\n",
       "    <tr>\n",
       "      <th>accumulate_batches</th>\n",
       "      <th></th>\n",
       "      <th></th>\n",
       "      <th></th>\n",
       "      <th></th>\n",
       "      <th></th>\n",
       "      <th></th>\n",
       "      <th></th>\n",
       "      <th></th>\n",
       "    </tr>\n",
       "  </thead>\n",
       "  <tbody>\n",
       "    <tr>\n",
       "      <th>1</th>\n",
       "      <td>16.0</td>\n",
       "      <td>0.643947</td>\n",
       "      <td>0.166706</td>\n",
       "      <td>0.350926</td>\n",
       "      <td>0.474560</td>\n",
       "      <td>0.690972</td>\n",
       "      <td>0.798194</td>\n",
       "      <td>0.820185</td>\n",
       "    </tr>\n",
       "    <tr>\n",
       "      <th>8</th>\n",
       "      <td>16.0</td>\n",
       "      <td>0.752789</td>\n",
       "      <td>0.039103</td>\n",
       "      <td>0.669815</td>\n",
       "      <td>0.731042</td>\n",
       "      <td>0.756944</td>\n",
       "      <td>0.776319</td>\n",
       "      <td>0.810556</td>\n",
       "    </tr>\n",
       "    <tr>\n",
       "      <th>16</th>\n",
       "      <td>16.0</td>\n",
       "      <td>0.716528</td>\n",
       "      <td>0.050819</td>\n",
       "      <td>0.622037</td>\n",
       "      <td>0.667569</td>\n",
       "      <td>0.719583</td>\n",
       "      <td>0.762176</td>\n",
       "      <td>0.790741</td>\n",
       "    </tr>\n",
       "  </tbody>\n",
       "</table>\n",
       "</div>"
      ],
      "text/plain": [
       "mean_dice           count      mean       std       min       25%       50%  \\\n",
       "accumulate_batches                                                            \n",
       "1                    16.0  0.643947  0.166706  0.350926  0.474560  0.690972   \n",
       "8                    16.0  0.752789  0.039103  0.669815  0.731042  0.756944   \n",
       "16                   16.0  0.716528  0.050819  0.622037  0.667569  0.719583   \n",
       "\n",
       "mean_dice                75%       max  \n",
       "accumulate_batches                      \n",
       "1                   0.798194  0.820185  \n",
       "8                   0.776319  0.810556  \n",
       "16                  0.762176  0.790741  "
      ]
     },
     "execution_count": 249,
     "metadata": {},
     "output_type": "execute_result"
    }
   ],
   "source": [
    "df_best_epoch.groupby('accumulate_batches').apply(lambda x: x.mean_dice.describe())"
   ]
  },
  {
   "cell_type": "code",
   "execution_count": 150,
   "metadata": {},
   "outputs": [
    {
     "data": {
      "text/html": [
       "<div>\n",
       "<style scoped>\n",
       "    .dataframe tbody tr th:only-of-type {\n",
       "        vertical-align: middle;\n",
       "    }\n",
       "\n",
       "    .dataframe tbody tr th {\n",
       "        vertical-align: top;\n",
       "    }\n",
       "\n",
       "    .dataframe thead th {\n",
       "        text-align: right;\n",
       "    }\n",
       "</style>\n",
       "<table border=\"1\" class=\"dataframe\">\n",
       "  <thead>\n",
       "    <tr style=\"text-align: right;\">\n",
       "      <th>mean_dice</th>\n",
       "      <th>count</th>\n",
       "      <th>mean</th>\n",
       "      <th>std</th>\n",
       "      <th>min</th>\n",
       "      <th>25%</th>\n",
       "      <th>50%</th>\n",
       "      <th>75%</th>\n",
       "      <th>max</th>\n",
       "    </tr>\n",
       "    <tr>\n",
       "      <th>weight_decay</th>\n",
       "      <th></th>\n",
       "      <th></th>\n",
       "      <th></th>\n",
       "      <th></th>\n",
       "      <th></th>\n",
       "      <th></th>\n",
       "      <th></th>\n",
       "      <th></th>\n",
       "    </tr>\n",
       "  </thead>\n",
       "  <tbody>\n",
       "    <tr>\n",
       "      <th>0.0001</th>\n",
       "      <td>24.0</td>\n",
       "      <td>0.559055</td>\n",
       "      <td>0.168094</td>\n",
       "      <td>0.245833</td>\n",
       "      <td>0.412477</td>\n",
       "      <td>0.603750</td>\n",
       "      <td>0.707477</td>\n",
       "      <td>0.800741</td>\n",
       "    </tr>\n",
       "    <tr>\n",
       "      <th>0.0010</th>\n",
       "      <td>24.0</td>\n",
       "      <td>0.386609</td>\n",
       "      <td>0.227836</td>\n",
       "      <td>0.000185</td>\n",
       "      <td>0.181088</td>\n",
       "      <td>0.468472</td>\n",
       "      <td>0.590208</td>\n",
       "      <td>0.691019</td>\n",
       "    </tr>\n",
       "    <tr>\n",
       "      <th>0.0100</th>\n",
       "      <td>24.0</td>\n",
       "      <td>0.124267</td>\n",
       "      <td>0.094460</td>\n",
       "      <td>0.000000</td>\n",
       "      <td>0.047431</td>\n",
       "      <td>0.118380</td>\n",
       "      <td>0.216898</td>\n",
       "      <td>0.303241</td>\n",
       "    </tr>\n",
       "  </tbody>\n",
       "</table>\n",
       "</div>"
      ],
      "text/plain": [
       "mean_dice     count      mean       std       min       25%       50%  \\\n",
       "weight_decay                                                            \n",
       "0.0001         24.0  0.559055  0.168094  0.245833  0.412477  0.603750   \n",
       "0.0010         24.0  0.386609  0.227836  0.000185  0.181088  0.468472   \n",
       "0.0100         24.0  0.124267  0.094460  0.000000  0.047431  0.118380   \n",
       "\n",
       "mean_dice          75%       max  \n",
       "weight_decay                      \n",
       "0.0001        0.707477  0.800741  \n",
       "0.0010        0.590208  0.691019  \n",
       "0.0100        0.216898  0.303241  "
      ]
     },
     "execution_count": 150,
     "metadata": {},
     "output_type": "execute_result"
    }
   ],
   "source": [
    "df_best_epoch.groupby('weight_decay').apply(lambda x: x.mean_dice.describe())"
   ]
  },
  {
   "cell_type": "code",
   "execution_count": 121,
   "metadata": {},
   "outputs": [
    {
     "data": {
      "text/html": [
       "<div>\n",
       "<style scoped>\n",
       "    .dataframe tbody tr th:only-of-type {\n",
       "        vertical-align: middle;\n",
       "    }\n",
       "\n",
       "    .dataframe tbody tr th {\n",
       "        vertical-align: top;\n",
       "    }\n",
       "\n",
       "    .dataframe thead th {\n",
       "        text-align: right;\n",
       "    }\n",
       "</style>\n",
       "<table border=\"1\" class=\"dataframe\">\n",
       "  <thead>\n",
       "    <tr style=\"text-align: right;\">\n",
       "      <th>mean_dice</th>\n",
       "      <th>count</th>\n",
       "      <th>mean</th>\n",
       "      <th>std</th>\n",
       "      <th>min</th>\n",
       "      <th>25%</th>\n",
       "      <th>50%</th>\n",
       "      <th>75%</th>\n",
       "      <th>max</th>\n",
       "    </tr>\n",
       "    <tr>\n",
       "      <th>loss_function</th>\n",
       "      <th></th>\n",
       "      <th></th>\n",
       "      <th></th>\n",
       "      <th></th>\n",
       "      <th></th>\n",
       "      <th></th>\n",
       "      <th></th>\n",
       "      <th></th>\n",
       "    </tr>\n",
       "  </thead>\n",
       "  <tbody>\n",
       "    <tr>\n",
       "      <th>cross_entropy</th>\n",
       "      <td>6.0</td>\n",
       "      <td>0.708549</td>\n",
       "      <td>0.126984</td>\n",
       "      <td>0.473519</td>\n",
       "      <td>0.679722</td>\n",
       "      <td>0.757963</td>\n",
       "      <td>0.792523</td>\n",
       "      <td>0.804167</td>\n",
       "    </tr>\n",
       "    <tr>\n",
       "      <th>focal_loss</th>\n",
       "      <td>11.0</td>\n",
       "      <td>0.698047</td>\n",
       "      <td>0.086521</td>\n",
       "      <td>0.474907</td>\n",
       "      <td>0.665648</td>\n",
       "      <td>0.718426</td>\n",
       "      <td>0.746204</td>\n",
       "      <td>0.796944</td>\n",
       "    </tr>\n",
       "    <tr>\n",
       "      <th>soft_dice</th>\n",
       "      <td>6.0</td>\n",
       "      <td>0.749460</td>\n",
       "      <td>0.083183</td>\n",
       "      <td>0.590278</td>\n",
       "      <td>0.743171</td>\n",
       "      <td>0.777454</td>\n",
       "      <td>0.794097</td>\n",
       "      <td>0.820185</td>\n",
       "    </tr>\n",
       "  </tbody>\n",
       "</table>\n",
       "</div>"
      ],
      "text/plain": [
       "mean_dice      count      mean       std       min       25%       50%  \\\n",
       "loss_function                                                            \n",
       "cross_entropy    6.0  0.708549  0.126984  0.473519  0.679722  0.757963   \n",
       "focal_loss      11.0  0.698047  0.086521  0.474907  0.665648  0.718426   \n",
       "soft_dice        6.0  0.749460  0.083183  0.590278  0.743171  0.777454   \n",
       "\n",
       "mean_dice           75%       max  \n",
       "loss_function                      \n",
       "cross_entropy  0.792523  0.804167  \n",
       "focal_loss     0.746204  0.796944  \n",
       "soft_dice      0.794097  0.820185  "
      ]
     },
     "execution_count": 121,
     "metadata": {},
     "output_type": "execute_result"
    }
   ],
   "source": [
    "df_best_epoch.groupby('loss_function').apply(lambda x: x.mean_dice.describe())"
   ]
  },
  {
   "cell_type": "code",
   "execution_count": 122,
   "metadata": {},
   "outputs": [
    {
     "data": {
      "text/html": [
       "<div>\n",
       "<style scoped>\n",
       "    .dataframe tbody tr th:only-of-type {\n",
       "        vertical-align: middle;\n",
       "    }\n",
       "\n",
       "    .dataframe tbody tr th {\n",
       "        vertical-align: top;\n",
       "    }\n",
       "\n",
       "    .dataframe thead th {\n",
       "        text-align: right;\n",
       "    }\n",
       "</style>\n",
       "<table border=\"1\" class=\"dataframe\">\n",
       "  <thead>\n",
       "    <tr style=\"text-align: right;\">\n",
       "      <th>mean_dice</th>\n",
       "      <th>count</th>\n",
       "      <th>mean</th>\n",
       "      <th>std</th>\n",
       "      <th>min</th>\n",
       "      <th>25%</th>\n",
       "      <th>50%</th>\n",
       "      <th>75%</th>\n",
       "      <th>max</th>\n",
       "    </tr>\n",
       "    <tr>\n",
       "      <th>lr</th>\n",
       "      <th></th>\n",
       "      <th></th>\n",
       "      <th></th>\n",
       "      <th></th>\n",
       "      <th></th>\n",
       "      <th></th>\n",
       "      <th></th>\n",
       "      <th></th>\n",
       "    </tr>\n",
       "  </thead>\n",
       "  <tbody>\n",
       "    <tr>\n",
       "      <th>0.001</th>\n",
       "      <td>11.0</td>\n",
       "      <td>0.742315</td>\n",
       "      <td>0.060536</td>\n",
       "      <td>0.656944</td>\n",
       "      <td>0.697500</td>\n",
       "      <td>0.748056</td>\n",
       "      <td>0.797639</td>\n",
       "      <td>0.820185</td>\n",
       "    </tr>\n",
       "    <tr>\n",
       "      <th>0.010</th>\n",
       "      <td>12.0</td>\n",
       "      <td>0.688426</td>\n",
       "      <td>0.115715</td>\n",
       "      <td>0.473519</td>\n",
       "      <td>0.645833</td>\n",
       "      <td>0.727824</td>\n",
       "      <td>0.771713</td>\n",
       "      <td>0.800741</td>\n",
       "    </tr>\n",
       "  </tbody>\n",
       "</table>\n",
       "</div>"
      ],
      "text/plain": [
       "mean_dice  count      mean       std       min       25%       50%       75%  \\\n",
       "lr                                                                             \n",
       "0.001       11.0  0.742315  0.060536  0.656944  0.697500  0.748056  0.797639   \n",
       "0.010       12.0  0.688426  0.115715  0.473519  0.645833  0.727824  0.771713   \n",
       "\n",
       "mean_dice       max  \n",
       "lr                   \n",
       "0.001      0.820185  \n",
       "0.010      0.800741  "
      ]
     },
     "execution_count": 122,
     "metadata": {},
     "output_type": "execute_result"
    }
   ],
   "source": [
    "df_best_epoch.groupby('lr').apply(lambda x: x.mean_dice.describe())"
   ]
  },
  {
   "cell_type": "code",
   "execution_count": 151,
   "metadata": {},
   "outputs": [
    {
     "data": {
      "text/plain": [
       "<matplotlib.axes._subplots.AxesSubplot at 0x7f49d1373ac8>"
      ]
     },
     "execution_count": 151,
     "metadata": {},
     "output_type": "execute_result"
    },
    {
     "data": {
      "image/png": "[encoded data removed]",
      "text/plain": [
       "<Figure size 432x288 with 1 Axes>"
      ]
     },
     "metadata": {
      "needs_background": "light"
     },
     "output_type": "display_data"
    }
   ],
   "source": [
    "df_best_epoch.boxplot('mean_dice', 'weight_decay')"
   ]
  },
  {
   "cell_type": "code",
   "execution_count": 257,
   "metadata": {},
   "outputs": [
    {
     "data": {
      "text/plain": [
       "<matplotlib.axes._subplots.AxesSubplot at 0x7f49600eccc0>"
      ]
     },
     "execution_count": 257,
     "metadata": {},
     "output_type": "execute_result"
    },
    {
     "data": {
      "image/png": "[encoded data removed]",
      "text/plain": [
       "<Figure size 720x360 with 1 Axes>"
      ]
     },
     "metadata": {
      "needs_background": "light"
     },
     "output_type": "display_data"
    }
   ],
   "source": [
    "df_best_epoch.boxplot('mean_dice', ['accumulate_batches','lr'], figsize=(10,5))"
   ]
  },
  {
   "cell_type": "code",
   "execution_count": 259,
   "metadata": {},
   "outputs": [
    {
     "data": {
      "image/png": "[encoded data removed]",
      "text/plain": [
       "<Figure size 864x432 with 1 Axes>"
      ]
     },
     "metadata": {
      "needs_background": "light"
     },
     "output_type": "display_data"
    },
    {
     "data": {
      "image/png": "[encoded data removed]",
      "text/plain": [
       "<Figure size 864x432 with 1 Axes>"
      ]
     },
     "metadata": {
      "needs_background": "light"
     },
     "output_type": "display_data"
    },
    {
     "data": {
      "image/png": "[encoded data removed]",
      "text/plain": [
       "<Figure size 864x432 with 1 Axes>"
      ]
     },
     "metadata": {
      "needs_background": "light"
     },
     "output_type": "display_data"
    },
    {
     "data": {
      "image/png": "[encoded data removed]",
      "text/plain": [
       "<Figure size 720x432 with 1 Axes>"
      ]
     },
     "metadata": {
      "needs_background": "light"
     },
     "output_type": "display_data"
    }
   ],
   "source": [
    "df_best_epoch.assign(\n",
    "    class_weights = df_best_epoch.class_weights.astype(str)\n",
    ").boxplot('mean_dice', 'class_weights', figsize=(12,6))\n",
    "df_best_epoch.boxplot('mean_dice', 'accumulate_batches', figsize=(12,6))\n",
    "df_best_epoch.boxplot('mean_dice', 'loss_function', figsize=(12,6))\n",
    "# df_best_epoch.boxplot('mean_dice', 'weight_decay')\n",
    "df_best_epoch.boxplot('mean_dice', 'lr', figsize=(10,6))\n",
    "plt.tight_layout()"
   ]
  },
  {
   "cell_type": "code",
   "execution_count": null,
   "metadata": {},
   "outputs": [],
   "source": []
  },
  {
   "cell_type": "code",
   "execution_count": 200,
   "metadata": {},
   "outputs": [
    {
     "data": {
      "text/plain": [
       "<matplotlib.axes._subplots.AxesSubplot at 0x7f4963c05ba8>"
      ]
     },
     "execution_count": 200,
     "metadata": {},
     "output_type": "execute_result"
    },
    {
     "data": {
      "image/png": "[encoded data removed]",
      "text/plain": [
       "<Figure size 936x432 with 1 Axes>"
      ]
     },
     "metadata": {
      "needs_background": "light"
     },
     "output_type": "display_data"
    }
   ],
   "source": [
    "df_best_epoch.boxplot('mean_dice', ['loss_function', 'lr'], figsize=(13,6))"
   ]
  },
  {
   "cell_type": "code",
   "execution_count": 95,
   "metadata": {},
   "outputs": [
    {
     "data": {
      "text/plain": [
       "<matplotlib.axes._subplots.AxesSubplot at 0x7fa5912baeb8>"
      ]
     },
     "execution_count": 95,
     "metadata": {},
     "output_type": "execute_result"
    },
    {
     "data": {
      "image/png": "[encoded data removed]",
      "text/plain": [
       "<Figure size 432x288 with 1 Axes>"
      ]
     },
     "metadata": {
      "needs_background": "light"
     },
     "output_type": "display_data"
    }
   ],
   "source": [
    "df_best_epoch.plot.scatter('mean_dice', 'accumulate_batches')"
   ]
  },
  {
   "cell_type": "code",
   "execution_count": 98,
   "metadata": {},
   "outputs": [
    {
     "data": {
      "text/plain": [
       "<matplotlib.axes._subplots.AxesSubplot at 0x7fa59123cef0>"
      ]
     },
     "execution_count": 98,
     "metadata": {},
     "output_type": "execute_result"
    },
    {
     "data": {
      "image/png": "[encoded data removed]",
      "text/plain": [
       "<Figure size 432x288 with 1 Axes>"
      ]
     },
     "metadata": {
      "needs_background": "light"
     },
     "output_type": "display_data"
    }
   ],
   "source": [
    "df_best_epoch.plot.scatter('epoch', 'accumulate_batches')"
   ]
  },
  {
   "cell_type": "code",
   "execution_count": 111,
   "metadata": {},
   "outputs": [
    {
     "data": {
      "text/plain": [
       "<matplotlib.axes._subplots.AxesSubplot at 0x7fa59160acc0>"
      ]
     },
     "execution_count": 111,
     "metadata": {},
     "output_type": "execute_result"
    },
    {
     "data": {
      "image/png": "[encoded data removed]",
      "text/plain": [
       "<Figure size 720x1080 with 2 Axes>"
      ]
     },
     "metadata": {
      "needs_background": "light"
     },
     "output_type": "display_data"
    }
   ],
   "source": [
    "cols = [col for col in df_best_epoch.columns if \"dice\" in col and not \"background\" in col]\n",
    "\n",
    "fig, ax = plt.subplots(figsize=(10,15))\n",
    "sns.heatmap(df_best_epoch.set_index('experiment')[cols], cmap='Greens')"
   ]
  },
  {
   "cell_type": "code",
   "execution_count": 93,
   "metadata": {},
   "outputs": [],
   "source": [
    "# fig, ax = plt.subplots(figsize=(15,15))\n",
    "# df_best_epoch.boxplot('mean_dice', by='loss_function', ax=ax);"
   ]
  },
  {
   "cell_type": "code",
   "execution_count": 54,
   "metadata": {},
   "outputs": [
    {
     "data": {
      "text/plain": [
       "0     100\n",
       "5     100\n",
       "2     100\n",
       "6     100\n",
       "3     100\n",
       "40     97\n",
       "68     82\n",
       "66     74\n",
       "65     65\n",
       "58     63\n",
       "59     60\n",
       "60     59\n",
       "45     57\n",
       "44     57\n",
       "42     53\n",
       "64     53\n",
       "46     53\n",
       "61     52\n",
       "62     50\n",
       "43     50\n",
       "35     49\n",
       "36     49\n",
       "57     47\n",
       "63     47\n",
       "56     43\n",
       "38     42\n",
       "33     40\n",
       "47     39\n",
       "4      39\n",
       "67     36\n",
       "37     35\n",
       "9      35\n",
       "41     34\n",
       "32     32\n",
       "53     30\n",
       "10     29\n",
       "31     25\n",
       "50     22\n",
       "7      22\n",
       "27     22\n",
       "51     21\n",
       "11     21\n",
       "30     20\n",
       "28     20\n",
       "13     20\n",
       "52     19\n",
       "25     19\n",
       "39     19\n",
       "54     18\n",
       "29     17\n",
       "26     17\n",
       "34     16\n",
       "55     16\n",
       "1      16\n",
       "14     12\n",
       "8      12\n",
       "12     11\n",
       "Name: experiment, dtype: int64"
      ]
     },
     "execution_count": 54,
     "metadata": {},
     "output_type": "execute_result"
    }
   ],
   "source": [
    "df.experiment.value_counts()"
   ]
  },
  {
   "cell_type": "code",
   "execution_count": 55,
   "metadata": {},
   "outputs": [
    {
     "data": {
      "text/plain": [
       "<matplotlib.axes._subplots.AxesSubplot at 0x7fa592125ef0>"
      ]
     },
     "execution_count": 55,
     "metadata": {},
     "output_type": "execute_result"
    },
    {
     "data": {
      "image/png": "[encoded data removed]",
      "text/plain": [
       "<Figure size 432x288 with 1 Axes>"
      ]
     },
     "metadata": {
      "needs_background": "light"
     },
     "output_type": "display_data"
    }
   ],
   "source": [
    "df[df.experiment == 0].mean_dice.plot()"
   ]
  },
  {
   "cell_type": "markdown",
   "metadata": {},
   "source": [
    "# question monika"
   ]
  },
  {
   "cell_type": "code",
   "execution_count": 48,
   "metadata": {},
   "outputs": [],
   "source": [
    "dataset_meta_path = '/export/scratch3/bvdp/segmentation/OAR_segmentation/data_preparation/meta/dataset_train_21-08-2020.csv'"
   ]
  },
  {
   "cell_type": "code",
   "execution_count": 49,
   "metadata": {},
   "outputs": [],
   "source": [
    "meta_df = pd.read_csv(dataset_meta_path)"
   ]
  },
  {
   "cell_type": "code",
   "execution_count": 79,
   "metadata": {},
   "outputs": [
    {
     "data": {
      "text/plain": [
       "count    1170.000000\n",
       "mean        1.117386\n",
       "std         0.119228\n",
       "min         0.488281\n",
       "25%         0.976562\n",
       "50%         1.171875\n",
       "75%         1.171875\n",
       "max         1.269531\n",
       "Name: x, dtype: float64"
      ]
     },
     "execution_count": 79,
     "metadata": {},
     "output_type": "execute_result"
    }
   ],
   "source": [
    "pixel_spacings = meta_df.PixelSpacing.str.extract(r'\\[(?P<x>.*),(?P<y>.*)\\]').astype(float)\n",
    "pixel_spacings.x.describe()"
   ]
  },
  {
   "cell_type": "code",
   "execution_count": 80,
   "metadata": {},
   "outputs": [
    {
     "data": {
      "text/plain": [
       "1.171875    533\n",
       "0.976562    407\n",
       "1.269531    216\n",
       "1.074219      3\n",
       "0.683594      2\n",
       "0.781250      2\n",
       "0.943359      1\n",
       "0.715397      1\n",
       "0.615234      1\n",
       "0.585938      1\n",
       "0.800781      1\n",
       "0.751953      1\n",
       "0.488281      1\n",
       "Name: x, dtype: int64"
      ]
     },
     "execution_count": 80,
     "metadata": {},
     "output_type": "execute_result"
    }
   ],
   "source": [
    "pixel_spacings.x.value_counts()"
   ]
  },
  {
   "cell_type": "code",
   "execution_count": 85,
   "metadata": {},
   "outputs": [
    {
     "data": {
      "text/plain": [
       "count    1170.000000\n",
       "mean        2.343120\n",
       "std         0.513989\n",
       "min         1.200000\n",
       "25%         2.500000\n",
       "50%         2.500000\n",
       "75%         2.500000\n",
       "max         3.000000\n",
       "Name: SliceThickness, dtype: float64"
      ]
     },
     "execution_count": 85,
     "metadata": {},
     "output_type": "execute_result"
    }
   ],
   "source": [
    "slice_thicknesses = meta_df.SliceThickness.astype(float)\n",
    "slice_thicknesses.describe()"
   ]
  },
  {
   "cell_type": "code",
   "execution_count": 86,
   "metadata": {},
   "outputs": [
    {
     "data": {
      "text/plain": [
       "2.50    849\n",
       "1.25    195\n",
       "3.00    124\n",
       "1.20      1\n",
       "2.00      1\n",
       "Name: SliceThickness, dtype: int64"
      ]
     },
     "execution_count": 86,
     "metadata": {},
     "output_type": "execute_result"
    }
   ],
   "source": [
    "slice_thicknesses.value_counts()"
   ]
  },
  {
   "cell_type": "code",
   "execution_count": 101,
   "metadata": {},
   "outputs": [
    {
     "data": {
      "text/plain": [
       "<matplotlib.axes._subplots.AxesSubplot at 0x7f496b296588>"
      ]
     },
     "execution_count": 101,
     "metadata": {},
     "output_type": "execute_result"
    },
    {
     "data": {
      "image/png": "[encoded data removed]",
      "text/plain": [
       "<Figure size 432x288 with 1 Axes>"
      ]
     },
     "metadata": {
      "needs_background": "light"
     },
     "output_type": "display_data"
    }
   ],
   "source": [
    "bla = df.groupby('experiment').epoch.max().rename('max_epoch').to_frame().reset_index()\n",
    "df_best_epoch.merge(bla, on='experiment')[['experiment', 'mean_dice', 'max_epoch']].plot.scatter('max_epoch', 'mean_dice')"
   ]
  },
  {
   "cell_type": "code",
   "execution_count": 92,
   "metadata": {},
   "outputs": [
    {
     "data": {
      "text/plain": [
       "experiment\n",
       "0     99\n",
       "1     15\n",
       "2     99\n",
       "3     99\n",
       "4     38\n",
       "5     99\n",
       "6     99\n",
       "7     21\n",
       "8     11\n",
       "9     34\n",
       "10    28\n",
       "11    20\n",
       "12    10\n",
       "13    19\n",
       "14    11\n",
       "15    28\n",
       "16    24\n",
       "17    45\n",
       "18    48\n",
       "19    38\n",
       "20    24\n",
       "21    24\n",
       "22    40\n",
       "23    42\n",
       "24    14\n",
       "25    18\n",
       "26    16\n",
       "27    21\n",
       "28    19\n",
       "29    16\n",
       "      ..\n",
       "42    52\n",
       "43    49\n",
       "44    56\n",
       "45    56\n",
       "46    52\n",
       "47    38\n",
       "48    23\n",
       "49    17\n",
       "50    21\n",
       "51    20\n",
       "52    18\n",
       "53    29\n",
       "54    17\n",
       "55    15\n",
       "56    42\n",
       "57    46\n",
       "58    62\n",
       "59    59\n",
       "60    58\n",
       "61    51\n",
       "62    49\n",
       "63    46\n",
       "64    52\n",
       "65    64\n",
       "66    73\n",
       "67    35\n",
       "68    81\n",
       "69    49\n",
       "70    62\n",
       "71    25\n",
       "Name: epoch, Length: 72, dtype: int64"
      ]
     },
     "execution_count": 92,
     "metadata": {},
     "output_type": "execute_result"
    }
   ],
   "source": []
  },
  {
   "cell_type": "code",
   "execution_count": null,
   "metadata": {},
   "outputs": [],
   "source": []
  }
 ],
 "metadata": {
  "kernelspec": {
   "display_name": "Python 3",
   "language": "python",
   "name": "python3"
  },
  "language_info": {
   "codemirror_mode": {
    "name": "ipython",
    "version": 3
   },
   "file_extension": ".py",
   "mimetype": "text/x-python",
   "name": "python",
   "nbconvert_exporter": "python",
   "pygments_lexer": "ipython3",
   "version": "3.8.6"
  }
 },
 "nbformat": 4,
 "nbformat_minor": 2
}
